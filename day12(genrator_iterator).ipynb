{
 "cells": [
  {
   "cell_type": "markdown",
   "metadata": {},
   "source": [
    "### GENERATORS AND DECORATER\n",
    "<a href=\"http://python.slides.com/colt/lists-14\">ppt of course</a>"
   ]
  },
  {
   "cell_type": "markdown",
   "metadata": {},
   "source": [
    "## GENERATORS AND ITERATORS"
   ]
  },
  {
   "cell_type": "raw",
   "metadata": {},
   "source": [
    "  OBJECTIVES\n",
    "Define Iterator and Iterable\n",
    "Understand the iter() and next() methods\n",
    "Build our own for loop\n",
    "Define what generators are and how they can be used\n",
    "Compare generator functions and generator expressions\n",
    "Use generators to pause execution of expensive functions\n",
    "Define what decorators are and how they can be used\n",
    "Create decorators to enhance the behavior of a function\n",
    "Explain what the wraps function is, and why it's used when writing decorators\n",
    "Create decorators that accept argumentsOBJECTIVES\n",
    "Define Iterator and Iterable\n",
    "Understand the iter() and next() methods\n",
    "Build our own for loop\n",
    "Define what generators are and how they can be used\n",
    "Compare generator functions and generator expressions\n",
    "Use generators to pause execution of expensive functions\n",
    "Define what decorators are and how they can be used\n",
    "Create decorators to enhance the behavior of a function\n",
    "Explain what the wraps function is, and why it's used when writing decorators\n",
    "Create decorators that accept arguments"
   ]
  },
  {
   "cell_type": "markdown",
   "metadata": {},
   "source": [
    "#### ITERATORS?  ITERABLES??\n",
    "<font color=\"blue\">Iterator -</font> an object that can be iterated upon.\n",
    "An object which returns data, one element at a time when next() is called on it\n",
    "\n",
    "<font color=\"blue\">Iterable -</font>  An object which will return an Iterator when iter() is called on it."
   ]
  },
  {
   "cell_type": "code",
   "execution_count": 1,
   "metadata": {},
   "outputs": [
    {
     "name": "stdout",
     "output_type": "stream",
     "text": [
      "1\n",
      "3\n",
      "5\n",
      "3\n",
      "6\n",
      "8\n",
      "9\n"
     ]
    }
   ],
   "source": [
    "list1=[1,3,5,3,6,8,9]\n",
    "for i in list1:\n",
    "    print(i)"
   ]
  },
  {
   "cell_type": "code",
   "execution_count": 2,
   "metadata": {},
   "outputs": [
    {
     "name": "stdout",
     "output_type": "stream",
     "text": [
      "s\n",
      "h\n",
      "a\n",
      "i\n",
      "l\n"
     ]
    }
   ],
   "source": [
    "name='shail'\n",
    "for i in name:\n",
    "    print(i)"
   ]
  },
  {
   "cell_type": "code",
   "execution_count": 22,
   "metadata": {},
   "outputs": [],
   "source": [
    "it=iter(name)"
   ]
  },
  {
   "cell_type": "code",
   "execution_count": 29,
   "metadata": {},
   "outputs": [
    {
     "ename": "TypeError",
     "evalue": "'str' object is not an iterator",
     "output_type": "error",
     "traceback": [
      "\u001b[0;31m---------------------------------------------------------------------------\u001b[0m",
      "\u001b[0;31mTypeError\u001b[0m                                 Traceback (most recent call last)",
      "\u001b[0;32m<ipython-input-29-2f689c2ef075>\u001b[0m in \u001b[0;36m<module>\u001b[0;34m\u001b[0m\n\u001b[0;32m----> 1\u001b[0;31m \u001b[0mnext\u001b[0m\u001b[0;34m(\u001b[0m\u001b[0mname\u001b[0m\u001b[0;34m)\u001b[0m\u001b[0;34m\u001b[0m\u001b[0;34m\u001b[0m\u001b[0m\n\u001b[0m",
      "\u001b[0;31mTypeError\u001b[0m: 'str' object is not an iterator"
     ]
    }
   ],
   "source": [
    "next(name)"
   ]
  },
  {
   "cell_type": "code",
   "execution_count": 5,
   "metadata": {},
   "outputs": [
    {
     "name": "stdout",
     "output_type": "stream",
     "text": [
      "s\n",
      "h\n",
      "a\n",
      "i\n",
      "l\n"
     ]
    }
   ],
   "source": [
    "for i in it:\n",
    "    print(i)"
   ]
  },
  {
   "cell_type": "code",
   "execution_count": 6,
   "metadata": {},
   "outputs": [
    {
     "name": "stdout",
     "output_type": "stream",
     "text": [
      "<str_iterator object at 0x7f6a4ce03cc0>\n"
     ]
    }
   ],
   "source": [
    "print(it)"
   ]
  },
  {
   "cell_type": "code",
   "execution_count": 7,
   "metadata": {
    "scrolled": true
   },
   "outputs": [
    {
     "ename": "AttributeError",
     "evalue": "'str_iterator' object has no attribute 'next'",
     "output_type": "error",
     "traceback": [
      "\u001b[0;31m---------------------------------------------------------------------------\u001b[0m",
      "\u001b[0;31mAttributeError\u001b[0m                            Traceback (most recent call last)",
      "\u001b[0;32m<ipython-input-7-24d6ab57088b>\u001b[0m in \u001b[0;36m<module>\u001b[0;34m\u001b[0m\n\u001b[0;32m----> 1\u001b[0;31m \u001b[0mit\u001b[0m\u001b[0;34m.\u001b[0m\u001b[0mnext\u001b[0m\u001b[0;34m(\u001b[0m\u001b[0;34m)\u001b[0m\u001b[0;34m\u001b[0m\u001b[0;34m\u001b[0m\u001b[0m\n\u001b[0m",
      "\u001b[0;31mAttributeError\u001b[0m: 'str_iterator' object has no attribute 'next'"
     ]
    }
   ],
   "source": [
    "it.next()"
   ]
  },
  {
   "cell_type": "markdown",
   "metadata": {},
   "source": [
    "##### NEXT\n",
    "When next() is called on an iterator,\n",
    "the iterator returns the next item. It keeps doing so until it raises a StopIteration error."
   ]
  },
  {
   "cell_type": "code",
   "execution_count": 18,
   "metadata": {},
   "outputs": [],
   "source": [
    "se=iter(\"class\")"
   ]
  },
  {
   "cell_type": "code",
   "execution_count": 19,
   "metadata": {},
   "outputs": [
    {
     "data": {
      "text/plain": [
       "<str_iterator at 0x7f6a4cdf15c0>"
      ]
     },
     "execution_count": 19,
     "metadata": {},
     "output_type": "execute_result"
    }
   ],
   "source": [
    "se"
   ]
  },
  {
   "cell_type": "code",
   "execution_count": 21,
   "metadata": {},
   "outputs": [
    {
     "ename": "StopIteration",
     "evalue": "",
     "output_type": "error",
     "traceback": [
      "\u001b[0;31m---------------------------------------------------------------------------\u001b[0m",
      "\u001b[0;31mStopIteration\u001b[0m                             Traceback (most recent call last)",
      "\u001b[0;32m<ipython-input-21-bc1ab118995a>\u001b[0m in \u001b[0;36m<module>\u001b[0;34m\u001b[0m\n\u001b[0;32m----> 1\u001b[0;31m \u001b[0mnext\u001b[0m\u001b[0;34m(\u001b[0m\u001b[0mit\u001b[0m\u001b[0;34m)\u001b[0m\u001b[0;34m\u001b[0m\u001b[0;34m\u001b[0m\u001b[0m\n\u001b[0m",
      "\u001b[0;31mStopIteration\u001b[0m: "
     ]
    }
   ],
   "source": [
    "next(it)"
   ]
  },
  {
   "cell_type": "markdown",
   "metadata": {},
   "source": [
    "### use the iter in for loop for handle the stopiteration loop"
   ]
  },
  {
   "cell_type": "code",
   "execution_count": 30,
   "metadata": {},
   "outputs": [],
   "source": [
    "def custom_for_loop(iterator,function):\n",
    "    iterator=iter(iterator)\n",
    "    while True:\n",
    "        try:\n",
    "            thing=next(iterator)\n",
    "        except StopIteration:\n",
    "            print(\"end the iterator item\")\n",
    "            break\n",
    "        else:\n",
    "            function(thing)"
   ]
  },
  {
   "cell_type": "code",
   "execution_count": 35,
   "metadata": {},
   "outputs": [
    {
     "name": "stdout",
     "output_type": "stream",
     "text": [
      "h\n",
      "i\n",
      "i\n",
      " \n",
      "s\n",
      "h\n",
      "a\n",
      "h\n",
      "i\n",
      "l\n",
      "end the iterator item\n"
     ]
    }
   ],
   "source": [
    "custom_for_loop(\"hii shahil\",print)"
   ]
  },
  {
   "cell_type": "code",
   "execution_count": 39,
   "metadata": {},
   "outputs": [
    {
     "data": {
      "text/plain": [
       "4"
      ]
     },
     "execution_count": 39,
     "metadata": {},
     "output_type": "execute_result"
    }
   ],
   "source": [
    "len(list(se))"
   ]
  },
  {
   "cell_type": "markdown",
   "metadata": {},
   "source": [
    "## Generators\n",
    "\n",
    "Generators are iterators<br>\n",
    "Generators can be created with generator functions<br>\n",
    "Generator functions use the yield keyword<br>\n",
    "Generators can be created with generator expressions<br>\n",
    "\n"
   ]
  },
  {
   "cell_type": "raw",
   "metadata": {},
   "source": [
    " Functions vs Generator Functions\n",
    "\n",
    "Functions\t    Generator Functions\n",
    "\n",
    "*)uses return \t   *)uses yield\n",
    "\n",
    "*)returns once\t   *)can yield multiple times\n",
    "\n",
    "*)When invoked,\n",
    "returns the\n",
    "return value\t   *) When invoked, returns a generator"
   ]
  },
  {
   "cell_type": "code",
   "execution_count": 42,
   "metadata": {},
   "outputs": [],
   "source": [
    "def count_upto(max):#create our generator \n",
    "    l=0\n",
    "    while l<=5:\n",
    "        yield l\n",
    "        l+=1"
   ]
  },
  {
   "cell_type": "code",
   "execution_count": 45,
   "metadata": {},
   "outputs": [],
   "source": [
    "gen=count_upto(6)"
   ]
  },
  {
   "cell_type": "markdown",
   "metadata": {},
   "source": [
    "Exhausting a Generator\n",
    "\n",
    "Calling next on a generator with nothing left to yield will throw a StopIteration error\n",
    "\n",
    "When we loop over a generator, the loop will stop before the StopIteration error gets thrown"
   ]
  },
  {
   "cell_type": "code",
   "execution_count": 46,
   "metadata": {},
   "outputs": [
    {
     "data": {
      "text/plain": [
       "0"
      ]
     },
     "execution_count": 46,
     "metadata": {},
     "output_type": "execute_result"
    }
   ],
   "source": [
    "next(gen)"
   ]
  },
  {
   "cell_type": "code",
   "execution_count": 47,
   "metadata": {},
   "outputs": [
    {
     "data": {
      "text/plain": [
       "1"
      ]
     },
     "execution_count": 47,
     "metadata": {},
     "output_type": "execute_result"
    }
   ],
   "source": [
    "next(gen)"
   ]
  },
  {
   "cell_type": "code",
   "execution_count": 52,
   "metadata": {},
   "outputs": [
    {
     "ename": "StopIteration",
     "evalue": "",
     "output_type": "error",
     "traceback": [
      "\u001b[0;31m---------------------------------------------------------------------------\u001b[0m",
      "\u001b[0;31mStopIteration\u001b[0m                             Traceback (most recent call last)",
      "\u001b[0;32m<ipython-input-52-c6722ed88e40>\u001b[0m in \u001b[0;36m<module>\u001b[0;34m\u001b[0m\n\u001b[0;32m----> 1\u001b[0;31m \u001b[0mnext\u001b[0m\u001b[0;34m(\u001b[0m\u001b[0mgen\u001b[0m\u001b[0;34m)\u001b[0m\u001b[0;31m#contunie\u001b[0m\u001b[0;34m\u001b[0m\u001b[0;34m\u001b[0m\u001b[0m\n\u001b[0m",
      "\u001b[0;31mStopIteration\u001b[0m: "
     ]
    }
   ],
   "source": [
    "next(gen)#contunie at the last eleement show error so fix it"
   ]
  },
  {
   "cell_type": "raw",
   "metadata": {},
   "source": [
    "Generator Expressions\n",
    "\n",
    "You can also create generators from generator expressions\n",
    "Generator expressions look a lot like list comprehensions\n",
    "Generator expressions use () instead of []"
   ]
  },
  {
   "cell_type": "raw",
   "metadata": {},
   "source": [
    "why generators ?\n",
    "\n",
    "Lazy Evaluation\n",
    "\n",
    "Also called calculation on demand\n",
    "Only compute values as needed\n",
    "Can help improve performance of your code"
   ]
  },
  {
   "cell_type": "code",
   "execution_count": 57,
   "metadata": {},
   "outputs": [
    {
     "data": {
      "text/plain": [
       "False"
      ]
     },
     "execution_count": 57,
     "metadata": {},
     "output_type": "execute_result"
    }
   ],
   "source": [
    "def is_abundant(n):\n",
    "    total = 0\n",
    "    for d in range(1,n):\n",
    "        if n % d == 0:\n",
    "            total += d\n",
    "    return total > n\n",
    "\n",
    "is_abundant(12) # True\n",
    "is_abundant(4) # False"
   ]
  },
  {
   "cell_type": "markdown",
   "metadata": {},
   "source": [
    "## Lists vs. Generators\n"
   ]
  },
  {
   "cell_type": "code",
   "execution_count": 64,
   "metadata": {},
   "outputs": [],
   "source": [
    "#use list \n",
    "def list_first_abundants(n):\n",
    "    abundant_nums=[]\n",
    "    num=1\n",
    "    while len(abundant_nums)<n:\n",
    "        if is_abundant(num):\n",
    "            abundant_nums.append(num)\n",
    "        num +=1\n",
    "    return abundant_nums"
   ]
  },
  {
   "cell_type": "code",
   "execution_count": 65,
   "metadata": {},
   "outputs": [
    {
     "data": {
      "text/plain": [
       "[12, 18, 20, 24, 30, 36, 40, 42, 48, 54, 56, 60]"
      ]
     },
     "execution_count": 65,
     "metadata": {},
     "output_type": "execute_result"
    }
   ],
   "source": [
    "list_first_abundants(12)"
   ]
  },
  {
   "cell_type": "code",
   "execution_count": 66,
   "metadata": {},
   "outputs": [],
   "source": [
    "def gen_first_abundants(n):\n",
    "    count = 0\n",
    "    num = 1\n",
    "    while count < n:\n",
    "        if is_abundant(num):\n",
    "            yield num\n",
    "            count += 1\n",
    "        num +=1\n",
    "        \n",
    "def generator_first_abundants(n):\n",
    "    count=0\n",
    "    num=1\n",
    "    while count<n:\n",
    "        if is_abundant(num):\n",
    "            yield num\n",
    "            count +=1\n",
    "        num+=1"
   ]
  },
  {
   "cell_type": "code",
   "execution_count": 69,
   "metadata": {},
   "outputs": [],
   "source": [
    "gen_func=generator_first_abundants(12)"
   ]
  },
  {
   "cell_type": "code",
   "execution_count": 73,
   "metadata": {},
   "outputs": [
    {
     "data": {
      "text/plain": [
       "20"
      ]
     },
     "execution_count": 73,
     "metadata": {},
     "output_type": "execute_result"
    }
   ],
   "source": [
    "next(gen_func)"
   ]
  },
  {
   "cell_type": "markdown",
   "metadata": {},
   "source": [
    "### Recap\n",
    "\n",
    "Generators are iterators<br>\n",
    "Generators can be created with generator functions using the yield keyword<br>\n",
    "Generators can be created with generator expressions<br>\n",
    "Generators may or may not have terminating conditions<br>\n",
    "Generators can provide memory savings<br>\n",
    "Generators calculate values as they are needed<br>"
   ]
  },
  {
   "cell_type": "code",
   "execution_count": null,
   "metadata": {},
   "outputs": [],
   "source": []
  }
 ],
 "metadata": {
  "kernelspec": {
   "display_name": "Python 3",
   "language": "python",
   "name": "python3"
  },
  "language_info": {
   "codemirror_mode": {
    "name": "ipython",
    "version": 3
   },
   "file_extension": ".py",
   "mimetype": "text/x-python",
   "name": "python",
   "nbconvert_exporter": "python",
   "pygments_lexer": "ipython3",
   "version": "3.7.3"
  }
 },
 "nbformat": 4,
 "nbformat_minor": 2
}
