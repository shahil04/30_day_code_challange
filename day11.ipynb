{
 "cells": [
  {
   "cell_type": "markdown",
   "metadata": {},
   "source": [
    "# OOP Concept part-ll\n",
    "\n",
    "OBJECTIVES<br>\n",
    "Implement inheritance, including multiple<br>\n",
    "Understand Method Resolution Order<br>\n",
    "Understand polymorphism<br>\n",
    "Add special methods to classes"
   ]
  },
  {
   "cell_type": "markdown",
   "metadata": {},
   "source": [
    "# Inheritance\n",
    "\n",
    "A key feature of OOP is the ability to define a class which inherits from another class (a \"base\" or \"parent\" class).\n",
    "\n",
    "In Python, inheritance works by passing the parent class as an argument to the definition of a child class:"
   ]
  },
  {
   "cell_type": "code",
   "execution_count": 44,
   "metadata": {},
   "outputs": [],
   "source": [
    "class Car:\n",
    "    def part(self,gear,whell,engine):\n",
    "        self.gear=gear\n",
    "        self.whell=whell\n",
    "        self.engine=engine\n",
    "    \n",
    "    \n",
    "class Race_car(Car):\n",
    "    def race_car(self,speed, tank,horse_power):\n",
    "        self.speed=speed\n",
    "        self.tank=tank\n",
    "        self.horse_power=horse_power\n",
    "        \n",
    "    def show_race_car(self,model_no):\n",
    "        self.model_no=model_no\n",
    "        print(f\"model_name {model_no} top gear {self.gear} and top speed {self.speed}\")\n",
    "        print(f'type {self.whell} weller ,{self.tank} tank capacity and {self.engine} enginne {self.horse_power} horse power')"
   ]
  },
  {
   "cell_type": "code",
   "execution_count": 45,
   "metadata": {},
   "outputs": [],
   "source": [
    "car=Car()\n",
    "car.part(\"5\",\"4\",\"1\")"
   ]
  },
  {
   "cell_type": "code",
   "execution_count": 46,
   "metadata": {},
   "outputs": [
    {
     "data": {
      "text/plain": [
       "'1'"
      ]
     },
     "execution_count": 46,
     "metadata": {},
     "output_type": "execute_result"
    }
   ],
   "source": [
    "car.engine"
   ]
  },
  {
   "cell_type": "code",
   "execution_count": 47,
   "metadata": {},
   "outputs": [],
   "source": [
    "race_car=Race_car()\n",
    "race_car.race_car(\"320\",'2','430')"
   ]
  },
  {
   "cell_type": "code",
   "execution_count": 48,
   "metadata": {},
   "outputs": [],
   "source": [
    "race_car.part(\"5\",\"4\",\"2\")# access the inheritance class method in Race_car object"
   ]
  },
  {
   "cell_type": "code",
   "execution_count": 49,
   "metadata": {},
   "outputs": [
    {
     "name": "stdout",
     "output_type": "stream",
     "text": [
      "model_name AUDI top gear 5 and top speed 320\n",
      "type 4 weller ,2 tank capacity and 2 enginne 430 horse power\n"
     ]
    }
   ],
   "source": [
    "race_car.show_race_car('AUDI')"
   ]
  },
  {
   "cell_type": "raw",
   "metadata": {},
   "source": [
    "super\n",
    "The super() keyword allows us to call the __init__ function of a parent class\n",
    "\n",
    "In the example below,\n"
   ]
  },
  {
   "cell_type": "code",
   "execution_count": 53,
   "metadata": {},
   "outputs": [],
   "source": [
    "class Animal:\n",
    "    def __init__(self,species):\n",
    "        self.species=species\n",
    "        \n",
    "class Dog(Animal):\n",
    "    def __init__(self,name):\n",
    "        super().__init__(\"german\")\n",
    "        self.name=name\n",
    "        "
   ]
  },
  {
   "cell_type": "code",
   "execution_count": 54,
   "metadata": {},
   "outputs": [],
   "source": [
    "dog=Dog(\"seru\")"
   ]
  },
  {
   "cell_type": "code",
   "execution_count": 55,
   "metadata": {},
   "outputs": [
    {
     "data": {
      "text/plain": [
       "'german'"
      ]
     },
     "execution_count": 55,
     "metadata": {},
     "output_type": "execute_result"
    }
   ],
   "source": [
    "dog.species #we initialize the child with both its own __init__ method and its parent's __init__ method:"
   ]
  },
  {
   "cell_type": "code",
   "execution_count": 56,
   "metadata": {},
   "outputs": [
    {
     "data": {
      "text/plain": [
       "'seru'"
      ]
     },
     "execution_count": 56,
     "metadata": {},
     "output_type": "execute_result"
    }
   ],
   "source": [
    "dog.name"
   ]
  },
  {
   "cell_type": "markdown",
   "metadata": {},
   "source": [
    "# Multiple Inheritance\n",
    "\n",
    "Python also allows classes to inherit from more than one parent class."
   ]
  },
  {
   "cell_type": "code",
   "execution_count": 83,
   "metadata": {},
   "outputs": [],
   "source": [
    "class Car:\n",
    "    def part(self,gear,whell,engine):\n",
    "        self.gear=gear\n",
    "        self.whell=whell\n",
    "        self.engine=engine\n",
    "    \n",
    "    \n",
    "class Race_car(Car):\n",
    "    def race_car(self,speed, tank,horse_power):\n",
    "        self.speed=speed\n",
    "        self.tank=tank\n",
    "        self.horse_power=horse_power\n",
    "        \n",
    "    def show_race_car(self,model_no):\n",
    "        self.model_no=model_no\n",
    "        print(f\"model_name {model_no} top gear {self.gear} and top speed {self.speed}\")\n",
    "        print(f'type {self.whell} weller ,{self.tank} tank capacity and {self.engine} enginne {self.horse_power} horse power')\n",
    "        \n",
    "        \n",
    "class Race_bike(Car):\n",
    "    def __init__(self,name,speed,power):\n",
    "        self.name=name\n",
    "        self.speed=speed\n",
    "        self.power=power\n",
    "\n",
    "        \n",
    "class Race(Race_bike,Race_car): #multiple inheritance \n",
    "    def __init__(self,race_type):\n",
    "        super().__init__(\"bmw\",'202',\"300\")\n",
    "        self.race_type=race_type\n",
    "        \n",
    "    \n",
    "    def show(self):\n",
    "        print(f\"{self.name},{self.tank},{self.race_type}\")\n",
    "        "
   ]
  },
  {
   "cell_type": "code",
   "execution_count": 84,
   "metadata": {},
   "outputs": [],
   "source": [
    "race=Race(\"long race\")"
   ]
  },
  {
   "cell_type": "code",
   "execution_count": 85,
   "metadata": {},
   "outputs": [],
   "source": [
    "race.race_car(\"330\",\"3\",\"3\")"
   ]
  },
  {
   "cell_type": "code",
   "execution_count": 86,
   "metadata": {},
   "outputs": [
    {
     "name": "stdout",
     "output_type": "stream",
     "text": [
      "bmw,3,long race\n"
     ]
    }
   ],
   "source": [
    "race.show()"
   ]
  },
  {
   "cell_type": "code",
   "execution_count": 65,
   "metadata": {},
   "outputs": [],
   "source": [
    "class Aquatic:\n",
    "  def __init__(self,name):\n",
    "    self.name = name\n",
    "\n",
    "  def swim(self):\n",
    "    return f\"{self.name} is swimming\"\n",
    "\n",
    "  def greet(self):\n",
    "    return f\"I am {self.name} of the sea!\"\n",
    "\n",
    "class Ambulatory:\n",
    "  def __init__(self,name):\n",
    "    self.name = name\n",
    "\n",
    "  def walk(self):\n",
    "    return f\"{self.name} is walking\"\n",
    "\n",
    "  def greet(self):\n",
    "    return f\"I am {self.name} of the land!\"\n",
    "\n",
    "class Penguin(Aquatic, Ambulatory):\n",
    "  def __init__(self,name):\n",
    "    super().__init__(name=name)"
   ]
  },
  {
   "cell_type": "code",
   "execution_count": 66,
   "metadata": {},
   "outputs": [],
   "source": [
    "bird=Penguin(\"white penguin\")"
   ]
  },
  {
   "cell_type": "code",
   "execution_count": 69,
   "metadata": {},
   "outputs": [
    {
     "data": {
      "text/plain": [
       "'I am white penguin of the sea!'"
      ]
     },
     "execution_count": 69,
     "metadata": {},
     "output_type": "execute_result"
    }
   ],
   "source": [
    "bird.greet()"
   ]
  },
  {
   "cell_type": "code",
   "execution_count": 70,
   "metadata": {},
   "outputs": [],
   "source": [
    "new=Ambulatory(\"dina\")"
   ]
  },
  {
   "cell_type": "code",
   "execution_count": 72,
   "metadata": {},
   "outputs": [
    {
     "ename": "AttributeError",
     "evalue": "'Ambulatory' object has no attribute 'swim'",
     "output_type": "error",
     "traceback": [
      "\u001b[0;31m---------------------------------------------------------------------------\u001b[0m",
      "\u001b[0;31mAttributeError\u001b[0m                            Traceback (most recent call last)",
      "\u001b[0;32m<ipython-input-72-928c08971248>\u001b[0m in \u001b[0;36m<module>\u001b[0;34m\u001b[0m\n\u001b[0;32m----> 1\u001b[0;31m \u001b[0mnew\u001b[0m\u001b[0;34m.\u001b[0m\u001b[0mswim\u001b[0m\u001b[0;34m(\u001b[0m\u001b[0;34m)\u001b[0m\u001b[0;34m\u001b[0m\u001b[0;34m\u001b[0m\u001b[0m\n\u001b[0m",
      "\u001b[0;31mAttributeError\u001b[0m: 'Ambulatory' object has no attribute 'swim'"
     ]
    }
   ],
   "source": [
    "new.swim()"
   ]
  },
  {
   "cell_type": "raw",
   "metadata": {},
   "source": [
    "Penguin inherits from both Aquatic and Ambulatory, \n",
    "therefore instances of Penguin can call both the walk and swim methods.\n",
    "\n",
    "What about the greet method for our instance of Penguin?\n",
    "\n",
    "It is calling the Aquatic.greet() instead of Ambulatory.greet()."
   ]
  },
  {
   "cell_type": "markdown",
   "metadata": {},
   "source": [
    "# Method Resolution Order (MRO)\n",
    "\n",
    "Whenever you create a class, Python sets a Method Resolution Order,\n",
    "\n",
    "or MRO, for that class, which is the order in which Python will look for methods on instances of that class.\n",
    "\n",
    "You can programmatically reference the MRO three ways:\n",
    "\n",
    "__mro__ attribute on the class\n",
    "use the mro() method on the class\n",
    "use the builtin help(cls) method"
   ]
  },
  {
   "cell_type": "code",
   "execution_count": 88,
   "metadata": {},
   "outputs": [
    {
     "data": {
      "text/plain": [
       "(__main__.Penguin, __main__.Aquatic, __main__.Ambulatory, object)"
      ]
     },
     "execution_count": 88,
     "metadata": {},
     "output_type": "execute_result"
    }
   ],
   "source": [
    "Penguin.__mro__"
   ]
  },
  {
   "cell_type": "code",
   "execution_count": 90,
   "metadata": {},
   "outputs": [
    {
     "data": {
      "text/plain": [
       "[__main__.Penguin, __main__.Aquatic, __main__.Ambulatory, object]"
      ]
     },
     "execution_count": 90,
     "metadata": {},
     "output_type": "execute_result"
    }
   ],
   "source": [
    "Penguin.mro()"
   ]
  },
  {
   "cell_type": "code",
   "execution_count": 91,
   "metadata": {},
   "outputs": [
    {
     "name": "stdout",
     "output_type": "stream",
     "text": [
      "Help on class Penguin in module __main__:\n",
      "\n",
      "class Penguin(Aquatic, Ambulatory)\n",
      " |  Penguin(name)\n",
      " |  \n",
      " |  Method resolution order:\n",
      " |      Penguin\n",
      " |      Aquatic\n",
      " |      Ambulatory\n",
      " |      builtins.object\n",
      " |  \n",
      " |  Methods defined here:\n",
      " |  \n",
      " |  __init__(self, name)\n",
      " |      Initialize self.  See help(type(self)) for accurate signature.\n",
      " |  \n",
      " |  ----------------------------------------------------------------------\n",
      " |  Methods inherited from Aquatic:\n",
      " |  \n",
      " |  greet(self)\n",
      " |  \n",
      " |  swim(self)\n",
      " |  \n",
      " |  ----------------------------------------------------------------------\n",
      " |  Data descriptors inherited from Aquatic:\n",
      " |  \n",
      " |  __dict__\n",
      " |      dictionary for instance variables (if defined)\n",
      " |  \n",
      " |  __weakref__\n",
      " |      list of weak references to the object (if defined)\n",
      " |  \n",
      " |  ----------------------------------------------------------------------\n",
      " |  Methods inherited from Ambulatory:\n",
      " |  \n",
      " |  walk(self)\n",
      "\n"
     ]
    }
   ],
   "source": [
    "help(Penguin)"
   ]
  },
  {
   "cell_type": "markdown",
   "metadata": {},
   "source": [
    "# Polymorphism\n",
    "\n",
    "A key principle in OOP is the idea of polymorphism - an object can take on many (poly) forms (morph).\n",
    "\n",
    "While a formal definition of polymorphism is more difficult, here are two important practical applications:\n",
    "\n",
    "1. The same operation works for different kinds of objects\n",
    "\n",
    "2. The same class method works in a similar way for different classes"
   ]
  },
  {
   "cell_type": "code",
   "execution_count": 92,
   "metadata": {},
   "outputs": [],
   "source": [
    "class Animal:\n",
    "    def __init__(self,sound):\n",
    "        self.sound=sound\n",
    "        \n",
    "class Dog(Animal):\n",
    "    def __init__(self,name):\n",
    "        super().__init__(\"bhoo-bhoo\")\n",
    "\n",
    "class Cat(Animal):\n",
    "    def __init__(self,name):\n",
    "        super().__init__(\"mewoo-mewoo\")"
   ]
  },
  {
   "cell_type": "code",
   "execution_count": 93,
   "metadata": {},
   "outputs": [],
   "source": [
    "dog=Dog('german')"
   ]
  },
  {
   "cell_type": "code",
   "execution_count": 97,
   "metadata": {},
   "outputs": [
    {
     "data": {
      "text/plain": [
       "'bhoo-bhoo'"
      ]
     },
     "execution_count": 97,
     "metadata": {},
     "output_type": "execute_result"
    }
   ],
   "source": [
    "dog.sound #polymorfism"
   ]
  },
  {
   "cell_type": "code",
   "execution_count": 95,
   "metadata": {},
   "outputs": [],
   "source": [
    "cat=Cat(\"deshi\")"
   ]
  },
  {
   "cell_type": "code",
   "execution_count": 96,
   "metadata": {},
   "outputs": [
    {
     "data": {
      "text/plain": [
       "'mewoo-mewoo'"
      ]
     },
     "execution_count": 96,
     "metadata": {},
     "output_type": "execute_result"
    }
   ],
   "source": [
    "cat.sound"
   ]
  },
  {
   "cell_type": "markdown",
   "metadata": {},
   "source": [
    "# Polymorphism & Inheritance\n",
    "\n",
    "1. The same class method works in a similar way for different classes\n",
    "\n",
    "\n",
    "Each subclass will have a different implementation of the method.<br>\n",
    "If the method is not implemented in the subclass, <br>\n",
    "the version in the parent class is called instead.<br>\n",
    "A common implementation of this is to have a method in a base (or parent) <br>\n",
    "class that is overridden by a subclass. This is called method overriding.<br>"
   ]
  },
  {
   "cell_type": "code",
   "execution_count": 125,
   "metadata": {},
   "outputs": [],
   "source": [
    "class Animals:\n",
    "    def speak(self):\n",
    "        raise NotImplementedError(\"this method is use by the subclass or child class of Animal.\")\n",
    "        \n",
    "class Dog(Animals):\n",
    "    def speak(self):\n",
    "        return \"bhoo-bhoo\"\n",
    "class Cat(Animals):\n",
    "    def speak(self):\n",
    "        return \"mewoo-mewoo\""
   ]
  },
  {
   "cell_type": "code",
   "execution_count": 131,
   "metadata": {},
   "outputs": [],
   "source": [
    "cat=Cat()\n",
    "dog=Dog()\n",
    "Anim=Animals()"
   ]
  },
  {
   "cell_type": "code",
   "execution_count": 130,
   "metadata": {},
   "outputs": [
    {
     "data": {
      "text/plain": [
       "'mewoo-mewoo'"
      ]
     },
     "execution_count": 130,
     "metadata": {},
     "output_type": "execute_result"
    }
   ],
   "source": [
    "cat.speak()"
   ]
  },
  {
   "cell_type": "code",
   "execution_count": 132,
   "metadata": {},
   "outputs": [
    {
     "data": {
      "text/plain": [
       "'bhoo-bhoo'"
      ]
     },
     "execution_count": 132,
     "metadata": {},
     "output_type": "execute_result"
    }
   ],
   "source": [
    "dog.speak()"
   ]
  },
  {
   "cell_type": "code",
   "execution_count": 133,
   "metadata": {},
   "outputs": [
    {
     "ename": "NotImplementedError",
     "evalue": "this method is use by the subclass or child class of Animal.",
     "output_type": "error",
     "traceback": [
      "\u001b[0;31m---------------------------------------------------------------------------\u001b[0m",
      "\u001b[0;31mNotImplementedError\u001b[0m                       Traceback (most recent call last)",
      "\u001b[0;32m<ipython-input-133-12c2a93430fc>\u001b[0m in \u001b[0;36m<module>\u001b[0;34m\u001b[0m\n\u001b[0;32m----> 1\u001b[0;31m \u001b[0mAnim\u001b[0m\u001b[0;34m.\u001b[0m\u001b[0mspeak\u001b[0m\u001b[0;34m(\u001b[0m\u001b[0;34m)\u001b[0m\u001b[0;34m\u001b[0m\u001b[0;34m\u001b[0m\u001b[0m\n\u001b[0m",
      "\u001b[0;32m<ipython-input-125-c59ea354aae1>\u001b[0m in \u001b[0;36mspeak\u001b[0;34m(self)\u001b[0m\n\u001b[1;32m      1\u001b[0m \u001b[0;32mclass\u001b[0m \u001b[0mAnimals\u001b[0m\u001b[0;34m:\u001b[0m\u001b[0;34m\u001b[0m\u001b[0;34m\u001b[0m\u001b[0m\n\u001b[1;32m      2\u001b[0m     \u001b[0;32mdef\u001b[0m \u001b[0mspeak\u001b[0m\u001b[0;34m(\u001b[0m\u001b[0mself\u001b[0m\u001b[0;34m)\u001b[0m\u001b[0;34m:\u001b[0m\u001b[0;34m\u001b[0m\u001b[0;34m\u001b[0m\u001b[0m\n\u001b[0;32m----> 3\u001b[0;31m         \u001b[0;32mraise\u001b[0m \u001b[0mNotImplementedError\u001b[0m\u001b[0;34m(\u001b[0m\u001b[0;34m\"this method is use by the subclass or child class of Animal.\"\u001b[0m\u001b[0;34m)\u001b[0m\u001b[0;34m\u001b[0m\u001b[0;34m\u001b[0m\u001b[0m\n\u001b[0m\u001b[1;32m      4\u001b[0m \u001b[0;34m\u001b[0m\u001b[0m\n\u001b[1;32m      5\u001b[0m \u001b[0;32mclass\u001b[0m \u001b[0mDog\u001b[0m\u001b[0;34m(\u001b[0m\u001b[0mAnimals\u001b[0m\u001b[0;34m)\u001b[0m\u001b[0;34m:\u001b[0m\u001b[0;34m\u001b[0m\u001b[0;34m\u001b[0m\u001b[0m\n",
      "\u001b[0;31mNotImplementedError\u001b[0m: this method is use by the subclass or child class of Animal."
     ]
    }
   ],
   "source": [
    "Anim.speak()"
   ]
  },
  {
   "cell_type": "raw",
   "metadata": {},
   "source": [
    "Special Methods\n",
    "\n",
    "Python classes have special (also known as \"magic\") methods, that are dunders (i.e. double underscore-named). \n",
    "\n",
    "2. (Polymorphism) The same operation works for different kinds of objects\n",
    "\n",
    "\n",
    "How does the following work in Python?\n",
    "\n",
    "The answer is \"special methods\"!\n",
    "\n",
    "These are methods with special names that give instructions to Python for how to deal with objects."
   ]
  },
  {
   "cell_type": "code",
   "execution_count": 104,
   "metadata": {},
   "outputs": [
    {
     "data": {
      "text/plain": [
       "'82'"
      ]
     },
     "execution_count": 104,
     "metadata": {},
     "output_type": "execute_result"
    }
   ],
   "source": [
    "8 + 2  # 10\n",
    "\"8\" + \"2\"  # 82\n"
   ]
  },
  {
   "cell_type": "raw",
   "metadata": {},
   "source": [
    "The + operator is shorthand for a special method called __add__() \n",
    "that gets called on the first operand.\n",
    "\n",
    "If the first (left) operand is an instance of int,\n",
    "__add__() does mathematical addition. If it's a string, it does string concatenation."
   ]
  },
  {
   "cell_type": "raw",
   "metadata": {},
   "source": [
    "Special Methods Applied\n",
    "\n",
    "Therefore, you can declare special methods on your own classes to mimic the behavior of builtin objects, like so using __len__:\n"
   ]
  },
  {
   "cell_type": "code",
   "execution_count": 107,
   "metadata": {},
   "outputs": [],
   "source": [
    "#len\n",
    "class Humam:\n",
    "    def __init__(self,height):\n",
    "        self.height=height\n",
    "    \n",
    "    def __len__(self):\n",
    "        return self.height"
   ]
  },
  {
   "cell_type": "code",
   "execution_count": 108,
   "metadata": {},
   "outputs": [],
   "source": [
    "sha=Humam(170)"
   ]
  },
  {
   "cell_type": "code",
   "execution_count": 109,
   "metadata": {},
   "outputs": [
    {
     "data": {
      "text/plain": [
       "170"
      ]
     },
     "execution_count": 109,
     "metadata": {},
     "output_type": "execute_result"
    }
   ],
   "source": [
    "len(sha)"
   ]
  },
  {
   "cell_type": "code",
   "execution_count": 110,
   "metadata": {},
   "outputs": [
    {
     "name": "stdout",
     "output_type": "stream",
     "text": [
      "<__main__.Human object at 0x7f0dd5825b38>\n"
     ]
    }
   ],
   "source": [
    "#String Representation\n",
    "\n",
    "class Human:\n",
    "    pass\n",
    "\n",
    "colt = Human()\n",
    "print(colt)  # <__main__.Human at 0x1062b8400>\n",
    "# The most common use-case for special methods is to make classes \"look pretty\" in strings.\n",
    "\n",
    "# By default, our classes look ugly:\n",
    "\n",
    "# We can use special methods to make it look way better!"
   ]
  },
  {
   "cell_type": "markdown",
   "metadata": {},
   "source": [
    "### String Representation Example\n",
    "\n",
    "\n",
    "The __repr__ method is one of several ways to provide a nicer string representation:\n",
    "\n",
    "There are also several other dunders to return classes in string formats (notably __str__ and __format__), and choosing one is a bit complicated!"
   ]
  },
  {
   "cell_type": "code",
   "execution_count": 121,
   "metadata": {},
   "outputs": [],
   "source": [
    "class Humanss:\n",
    "    def  __init__(self,name=\"somebody one\"):\n",
    "        self.name=name\n",
    "        \n",
    "    def __repr__(self):\n",
    "        return self.name"
   ]
  },
  {
   "cell_type": "code",
   "execution_count": 122,
   "metadata": {},
   "outputs": [],
   "source": [
    "raj=Humanss()"
   ]
  },
  {
   "cell_type": "code",
   "execution_count": 123,
   "metadata": {},
   "outputs": [
    {
     "name": "stdout",
     "output_type": "stream",
     "text": [
      "somebody one\n"
     ]
    }
   ],
   "source": [
    "print(raj)"
   ]
  },
  {
   "cell_type": "code",
   "execution_count": 124,
   "metadata": {},
   "outputs": [
    {
     "name": "stdout",
     "output_type": "stream",
     "text": [
      "somebody one is call me\n"
     ]
    }
   ],
   "source": [
    "print(f\"{raj} is call me\")"
   ]
  },
  {
   "cell_type": "raw",
   "metadata": {},
   "source": [
    "Recap\n",
    "\n",
    "OOP is a way of programming by grouping things into hierarchical classes (objects)\n",
    "OOP uses encapsulation and abstraction to provide a class interface to call methods and read/modify attributes\n",
    "Classes can inherit from other classes and use the same methods to do different things (polymorphism)\n",
    "We can enhance our custom classes with special/magic/dunder methods"
   ]
  },
  {
   "cell_type": "code",
   "execution_count": null,
   "metadata": {},
   "outputs": [],
   "source": []
  }
 ],
 "metadata": {
  "kernelspec": {
   "display_name": "Python 3",
   "language": "python",
   "name": "python3"
  },
  "language_info": {
   "codemirror_mode": {
    "name": "ipython",
    "version": 3
   },
   "file_extension": ".py",
   "mimetype": "text/x-python",
   "name": "python",
   "nbconvert_exporter": "python",
   "pygments_lexer": "ipython3",
   "version": "3.7.3"
  }
 },
 "nbformat": 4,
 "nbformat_minor": 2
}
