{
 "cells": [
  {
   "cell_type": "markdown",
   "metadata": {},
   "source": [
    "# project 1\n",
    "\n",
    "## Cricket player details from cricbuzz"
   ]
  },
  {
   "cell_type": "raw",
   "metadata": {},
   "source": [
    "this is my rough webscraping about the cricket player.\n",
    "i will pritify in our next day day21 of 30days of code challenge.\n",
    "and you can download all information in single cli"
   ]
  },
  {
   "cell_type": "code",
   "execution_count": 1,
   "metadata": {},
   "outputs": [],
   "source": [
    "all_team_url=\"https://www.cricbuzz.com/cricket-team\"\n",
    "\n",
    "# # steps \n",
    "# 1.scrap all international-team name and link\n",
    "# 2. go one by on each team\n",
    "# 3. find player section link\n",
    "# 4.find all palayer section list\n",
    "# 5.go to single player link\n",
    "# 5. scrap img personal information details\n",
    "# 6. cricket carrier summary\n",
    "\n"
   ]
  },
  {
   "cell_type": "code",
   "execution_count": 2,
   "metadata": {},
   "outputs": [],
   "source": [
    "from bs4 import BeautifulSoup as bs\n",
    "import requests"
   ]
  },
  {
   "cell_type": "code",
   "execution_count": 3,
   "metadata": {},
   "outputs": [],
   "source": [
    "page=requests.get(all_team_url)\n",
    "html_page=bs(page.content,\"lxml\")"
   ]
  },
  {
   "cell_type": "code",
   "execution_count": 4,
   "metadata": {},
   "outputs": [],
   "source": [
    "\n",
    "team=html_page.find(\"div\",{\"class\":\"cb-col cb-col-67 cb-nws-lft-col\"})"
   ]
  },
  {
   "cell_type": "code",
   "execution_count": 5,
   "metadata": {},
   "outputs": [],
   "source": [
    "team_url=team.findAll(\"a\")"
   ]
  },
  {
   "cell_type": "code",
   "execution_count": 6,
   "metadata": {},
   "outputs": [
    {
     "data": {
      "text/plain": [
       "<a class=\"cb-teams-flag-img\" href=\"/cricket-team/india/2\" title=\"India\"> <img alt=\"India\" class=\"cb-lst-img lazy-loading\" height=\"54\" src=\"/a/img/v1/72x54/i1/c172115/india.jpg\" style=\"padding:0px;\" width=\"72\"/> </a>"
      ]
     },
     "execution_count": 6,
     "metadata": {},
     "output_type": "execute_result"
    }
   ],
   "source": [
    "team_url[0]"
   ]
  },
  {
   "cell_type": "code",
   "execution_count": 7,
   "metadata": {},
   "outputs": [],
   "source": [
    "class Team_list(object):\n",
    "    def __init__(self):\n",
    "        self.country_name=\"\"\n",
    "        self.url=\"\""
   ]
  },
  {
   "cell_type": "code",
   "execution_count": 8,
   "metadata": {},
   "outputs": [],
   "source": [
    "b=team_url[0]"
   ]
  },
  {
   "cell_type": "code",
   "execution_count": 9,
   "metadata": {},
   "outputs": [
    {
     "data": {
      "text/plain": [
       "'/cricket-team/india/2'"
      ]
     },
     "execution_count": 9,
     "metadata": {},
     "output_type": "execute_result"
    }
   ],
   "source": [
    "b[\"href\"]\n"
   ]
  },
  {
   "cell_type": "code",
   "execution_count": 10,
   "metadata": {},
   "outputs": [],
   "source": [
    "teams=[]\n",
    "pre_url=\"https://www.cricbuzz.com\"\n",
    "for te in team_url:\n",
    "    team_obj=Team_list()\n",
    "    team_obj.name=te[\"title\"]\n",
    "    team_obj.url=pre_url+te[\"href\"]\n",
    "    teams.append(team_obj)"
   ]
  },
  {
   "cell_type": "code",
   "execution_count": 11,
   "metadata": {},
   "outputs": [
    {
     "data": {
      "text/plain": [
       "'Pakistan'"
      ]
     },
     "execution_count": 11,
     "metadata": {},
     "output_type": "execute_result"
    }
   ],
   "source": [
    "teams[4].name"
   ]
  },
  {
   "cell_type": "code",
   "execution_count": 12,
   "metadata": {},
   "outputs": [
    {
     "data": {
      "text/plain": [
       "74"
      ]
     },
     "execution_count": 12,
     "metadata": {},
     "output_type": "execute_result"
    }
   ],
   "source": [
    "len(teams)"
   ]
  },
  {
   "cell_type": "code",
   "execution_count": 13,
   "metadata": {},
   "outputs": [
    {
     "data": {
      "text/plain": [
       "'https://www.cricbuzz.com/cricket-team/india/2'"
      ]
     },
     "execution_count": 13,
     "metadata": {},
     "output_type": "execute_result"
    }
   ],
   "source": [
    "teams[0].url"
   ]
  },
  {
   "cell_type": "code",
   "execution_count": 14,
   "metadata": {},
   "outputs": [],
   "source": [
    "t=set(teams)"
   ]
  },
  {
   "cell_type": "code",
   "execution_count": 15,
   "metadata": {},
   "outputs": [
    {
     "data": {
      "text/plain": [
       "74"
      ]
     },
     "execution_count": 15,
     "metadata": {},
     "output_type": "execute_result"
    }
   ],
   "source": [
    "len(t)"
   ]
  },
  {
   "cell_type": "code",
   "execution_count": 16,
   "metadata": {},
   "outputs": [
    {
     "data": {
      "text/plain": [
       "74"
      ]
     },
     "execution_count": 16,
     "metadata": {},
     "output_type": "execute_result"
    }
   ],
   "source": [
    "len(teams)"
   ]
  },
  {
   "cell_type": "code",
   "execution_count": 17,
   "metadata": {},
   "outputs": [
    {
     "name": "stdout",
     "output_type": "stream",
     "text": [
      "https://www.cricbuzz.com/cricket-team/india/2\n",
      "https://www.cricbuzz.com/cricket-team/india/2\n",
      "https://www.cricbuzz.com/cricket-team/ireland/27\n",
      "https://www.cricbuzz.com/cricket-team/ireland/27\n",
      "https://www.cricbuzz.com/cricket-team/pakistan/3\n",
      "https://www.cricbuzz.com/cricket-team/pakistan/3\n",
      "https://www.cricbuzz.com/cricket-team/australia/4\n",
      "https://www.cricbuzz.com/cricket-team/australia/4\n",
      "https://www.cricbuzz.com/cricket-team/sri-lanka/5\n",
      "https://www.cricbuzz.com/cricket-team/sri-lanka/5\n"
     ]
    }
   ],
   "source": [
    "#now open single country team\n",
    "#we have a dublicate data here so\n",
    "for i in range(0,10):\n",
    "    print(teams[i].url)\n",
    "    "
   ]
  },
  {
   "cell_type": "code",
   "execution_count": 18,
   "metadata": {},
   "outputs": [],
   "source": [
    "#for remove dublicate link \n",
    "new_url=[]\n",
    "non_copy_team=[]\n",
    "for i in range(0,len(teams)):\n",
    "    if teams[i].url not in new_url:\n",
    "        new_url.append(teams[i].url)\n",
    "    if teams[i].name not in non_copy_team:\n",
    "        non_copy_team.append(teams[i].name)\n",
    "    \n",
    "    \n",
    "    "
   ]
  },
  {
   "cell_type": "code",
   "execution_count": 19,
   "metadata": {},
   "outputs": [
    {
     "data": {
      "text/plain": [
       "37"
      ]
     },
     "execution_count": 19,
     "metadata": {},
     "output_type": "execute_result"
    }
   ],
   "source": [
    "len(non_copy_team)"
   ]
  },
  {
   "cell_type": "code",
   "execution_count": 20,
   "metadata": {},
   "outputs": [],
   "source": [
    "top_12teams=new_url[:12]"
   ]
  },
  {
   "cell_type": "code",
   "execution_count": 21,
   "metadata": {},
   "outputs": [
    {
     "data": {
      "text/plain": [
       "'https://www.cricbuzz.com/cricket-team/india/2'"
      ]
     },
     "execution_count": 21,
     "metadata": {},
     "output_type": "execute_result"
    }
   ],
   "source": [
    "#now going with single country team\n",
    "new_url[0]\n"
   ]
  },
  {
   "cell_type": "code",
   "execution_count": 22,
   "metadata": {},
   "outputs": [],
   "source": [
    "country_url=requests.get(new_url[0])\n",
    "soup=bs(country_url.content,\"lxml\")"
   ]
  },
  {
   "cell_type": "code",
   "execution_count": 23,
   "metadata": {},
   "outputs": [],
   "source": [
    "country_player_url=top_12teams[0]+\"/players\""
   ]
  },
  {
   "cell_type": "code",
   "execution_count": 24,
   "metadata": {},
   "outputs": [
    {
     "data": {
      "text/plain": [
       "'https://www.cricbuzz.com/cricket-team/india/2/players'"
      ]
     },
     "execution_count": 24,
     "metadata": {},
     "output_type": "execute_result"
    }
   ],
   "source": [
    "country_player_url"
   ]
  },
  {
   "cell_type": "code",
   "execution_count": 25,
   "metadata": {},
   "outputs": [],
   "source": [
    "pl=requests.get(country_player_url)\n",
    "player_soup=bs(pl.content,\"lxml\")"
   ]
  },
  {
   "cell_type": "code",
   "execution_count": 26,
   "metadata": {},
   "outputs": [],
   "source": [
    "players=player_soup.find(\"div\",{\"class\":\"cb-col-67 cb-col cb-left cb-top-zero\"})"
   ]
  },
  {
   "cell_type": "code",
   "execution_count": 27,
   "metadata": {},
   "outputs": [],
   "source": [
    "players_link=players.findAll('a')"
   ]
  },
  {
   "cell_type": "code",
   "execution_count": 28,
   "metadata": {},
   "outputs": [
    {
     "data": {
      "text/plain": [
       "'Yuzvendra Chahal'"
      ]
     },
     "execution_count": 28,
     "metadata": {},
     "output_type": "execute_result"
    }
   ],
   "source": [
    "players_link[14].text.strip()"
   ]
  },
  {
   "cell_type": "code",
   "execution_count": 43,
   "metadata": {},
   "outputs": [],
   "source": [
    "single=pre_url+players_link[0][\"href\"]"
   ]
  },
  {
   "cell_type": "code",
   "execution_count": 44,
   "metadata": {},
   "outputs": [
    {
     "data": {
      "text/plain": [
       "'https://www.cricbuzz.com/profiles/1413/virat-kohli'"
      ]
     },
     "execution_count": 44,
     "metadata": {},
     "output_type": "execute_result"
    }
   ],
   "source": [
    "single"
   ]
  },
  {
   "cell_type": "code",
   "execution_count": 45,
   "metadata": {},
   "outputs": [],
   "source": [
    "single_player=requests.get(single)\n",
    "single_player_soup=bs(single_player.content,\"lxml\")"
   ]
  },
  {
   "cell_type": "code",
   "execution_count": 46,
   "metadata": {},
   "outputs": [],
   "source": [
    "img=single_player_soup.find(\"div\",{\"class\":\"cb-col cb-col-20 cb-col-rt\"})"
   ]
  },
  {
   "cell_type": "code",
   "execution_count": 47,
   "metadata": {},
   "outputs": [],
   "source": [
    "imge=img.find('img')"
   ]
  },
  {
   "cell_type": "code",
   "execution_count": 48,
   "metadata": {},
   "outputs": [],
   "source": [
    "player_image=pre_url+imge[\"src\"]"
   ]
  },
  {
   "cell_type": "code",
   "execution_count": 49,
   "metadata": {},
   "outputs": [],
   "source": [
    "pi=single_player_soup.find(\"div\",{\"class\":\"cb-col cb-col-33 text-black\"})"
   ]
  },
  {
   "cell_type": "code",
   "execution_count": 50,
   "metadata": {},
   "outputs": [
    {
     "data": {
      "text/plain": [
       "['Personal Information Born',\n",
       " 'Nov 05, 1988 (31 years)',\n",
       " 'Birth Place',\n",
       " 'Delhi',\n",
       " 'Height',\n",
       " '5 ft 9 in (175 cm)',\n",
       " 'Role',\n",
       " 'Batsman',\n",
       " 'Batting Style',\n",
       " 'Right Handed Bat',\n",
       " 'Bowling Style',\n",
       " 'Right-arm medium',\n",
       " 'ICC Rankings \\xa0 Test ODI T20 Batting',\n",
       " '2',\n",
       " ' 1',\n",
       " ' 10',\n",
       " 'Bowling',\n",
       " '--',\n",
       " ' --',\n",
       " ' --',\n",
       " '',\n",
       " 'Career Information Teams',\n",
       " 'India, Delhi, India Red, India U19, Royal Challengers Bangalore, Board Presidents XI, North Zone, Indians, India A, Asia XI']"
      ]
     },
     "execution_count": 50,
     "metadata": {},
     "output_type": "execute_result"
    }
   ],
   "source": [
    "pi.text.strip().split(\"  \")"
   ]
  },
  {
   "cell_type": "code",
   "execution_count": 51,
   "metadata": {},
   "outputs": [],
   "source": [
    "bss=single_player_soup.findAll(\"table\",{\"class\":\"table cb-col-100 cb-plyr-thead\"})"
   ]
  },
  {
   "cell_type": "code",
   "execution_count": 52,
   "metadata": {},
   "outputs": [],
   "source": [
    "Batting_Career_Summary=bss[0]\n",
    "Bowling_Career_Summary=bss[1]"
   ]
  },
  {
   "cell_type": "code",
   "execution_count": 53,
   "metadata": {},
   "outputs": [
    {
     "data": {
      "text/plain": [
       "['M Inn NO Runs HS Avg BF SR 100 200 50 4s 6s',\n",
       " '  Test 86 145 10 7240 254 53.63 12552 57.68 27 7 22 811 22',\n",
       " 'ODI 248 239 39 11867 183 59.34 12726 93.25 43 0 58 1116 122',\n",
       " 'T20I 81 76 21 2794 94 50.8 2021 138.25 0 0 24 258 76',\n",
       " 'IPL 177 169 26 5412 113 37.85 4112 131.61 5 0 36 480 190']"
      ]
     },
     "execution_count": 53,
     "metadata": {},
     "output_type": "execute_result"
    }
   ],
   "source": [
    "Batting_Career_Summary.text.strip().split(\"   \")"
   ]
  },
  {
   "cell_type": "code",
   "execution_count": 54,
   "metadata": {},
   "outputs": [
    {
     "data": {
      "text/plain": [
       "['M Inn B Runs Wkts BBI BBM Econ Avg SR 5W 10W',\n",
       " '  Test 86 11 175 84 0 0/0 0/0 2.88 0.0 0.0 0 0',\n",
       " 'ODI 248 48 641 665 4 1/15 1/15 6.22 166.25 160.25 0 0',\n",
       " 'T20I 81 12 146 198 4 1/13 1/13 8.14 49.5 36.5 0 0',\n",
       " 'IPL 177 26 251 368 4 2/25 2/25 8.8 92.0 62.75 0 0']"
      ]
     },
     "execution_count": 54,
     "metadata": {},
     "output_type": "execute_result"
    }
   ],
   "source": [
    "Bowling_Career_Summary.text.strip().split(\"   \")"
   ]
  },
  {
   "cell_type": "code",
   "execution_count": 55,
   "metadata": {},
   "outputs": [],
   "source": [
    "playee_history=single_player_soup.find(\"div\",{\"class\":\"cb-col cb-col-100 cb-player-bio\"})"
   ]
  },
  {
   "cell_type": "code",
   "execution_count": 56,
   "metadata": {},
   "outputs": [
    {
     "data": {
      "text/plain": [
       "\"A spunky, chubby teenager with gelled hair shot to fame after leading India to glory in the Under-19 World Cup at Kuala Lumpur in early 2008. In an Indian team filled with saint-like icons worthy of their own hagiographies, Virat Kohli, with his most un-Indian, 'bad-boy' intensity, would clearly be an outcast.  Grind through the ranks  He soon joined the senior Men in Blue in Sri Lanka, come August 2008. In the absence of the regular openers, Virat Kohli was given a chance to open the batting in the ODI series. He played some commendable knocks in his extended run as an opener, as India went on to win the ODI series. However, the established and formidable pair of Tendulkar and Sehwag kept Kohli out of the team  The 20-year-old continued to impress for Delhi and dominated attacks, clearly demonstrating that he belonged at a much higher level; that junior cricket was beneath his standards. Kohli then traveled to Australia in 2009 for the Emerging players tournament and stamped his authority all over the bowling attacks. He added 'big-match temperament' to his résumé too, lacing a fluent hundred in the final against South Africa, and guiding his team to a clinical victory. The young prodigy, barely old enough to receive his man-of-the-match champagne, ended the tournament with 398 runs from 7 outings with two centuries and two fifties, ensuring that he remained fresh in the selectors' minds.  Cementing a national spot  The selectors had no choice but to give Kohli another go in the Indian side, and this time he strung together a number of impressive scores. After being given an extended run, he repaid their faith by notching up his maiden ODI hundred in an impressive run-chase against Sri Lanka in December 2009 - his first of many exemplary knocks in run-chases. In the World Cup final of 2011, the biggest stage of them all, Kohli, along with his Delhi teammate Gautam Gambhir, pulled off a largely underrated rescue effort with an 83-run stand after losing the openers early. This knock played a crucial role in setting the platform for MS Dhoni's fabled knock of 91*, which eventually won India the World Cup on that enchanting evening in Mumbai.  In the hangover of the World Cup euphoria, Kohli continued to take giant strides in the limited-overs format. Three years after his ODI debut, he was finally handed the coveted Test cap in the Caribbean islands in July 2011, owing to the need to rest the senior players. After a series each against the Dukes ball and the SG ball, it was now time for his trial against the Kookaburra Down Under. In the first two Tests, he seemed to lack the technique to play in Australia, maintaining his low stance on the bouncy tracks. He also had a rather restricting trigger movement with his front-foot routinely coming across towards off-stump, thereby hindering the necessary movement to play back-foot shots such as the pull and the cut.  A baptism by fire Down Under  The selectors and the captain persisted with him going into the 3rd Test, and he delivered a break-through performance on a bouncy Perth wicket - an impressive 75 - where a visible change in technique was visible. He managed to stand tall, with a more open stance, and exhibited the back-foot shots in his repertoire during the course of the innings. The volatile Kohli managed to overshadow his impropriety in conduct with his performance in the final Test of the series. Notching up India's only century of a disastrous tour, Kohli was the shining light in amidst the chaos, as he stroked his way to a hundred in Adelaide exhibiting the will to improve and extraordinary focus under pressure in the searing heat and pressure of Australia.  While he grappled and clawed his way into the Test side, he went on a record-breaking spree in ODIs: the Indian record for the fastest to multiples-of-thousand runs in ODIs, culminating in the world record for the fastest to 9000 runs in ODIs. He was also the highest run-scorer for India in ODIs for three consecutive calendar years - 2010, 2011 and 2012 and won the ICC ODI cricketer of the year award in 2012.  That break-through innings…  We remember the accolades, but where did it all begin? There's always the one innings that made the world sit up and take notice; the 86-ball knock which he started off as a brash boy, but ended as a man. Chasing an improbable target of 321 off 40 overs to stay alive in the tournament, he laid into the Sri Lankan bowlers and carted his way to 133*, getting India home with more than 2 overs to spare, practically pulling them out of the airport after M.S. Dhoni rather ignorantly remarked that India had already been eliminated from the tournament.  King Kohli had arrived. The king of the run-chase, and a plethora of ODI records in the modern age.  Batting technique and idiosyncrasies  Kohli has a seemingly hot head on his shoulders, but he channels all his anger while he is batting. Known to be an aggressive batsman always on the lookout for runs, he has a fairly sound , albeit slightly unconventional technique, which makes him judge the length of the ball earlier than most, and amazingly quick wrists to run his hands through the ball, even against fast bowlers. He is equally adept against pace and spin, and never looks ungainly at the crease. With nimble foot-movement against the spinners, he is known to be quite destructive when the situation demands it. He has had to fill some rather big shoes of his predecessors, and has done an admirable job to say the least.  Technical Shortcomings   However, his slightly unconventional bottom-hand technique results in some technical shortcomings and lack of versatility. Kohli has dealt with swing bowling well, which is late and difficult to pick, but still less abrupt than seam bowling, which is almost unnatural and catches you off-guard. He is, without a doubt, one of the most gifted cricketers who has also worked very hard on his game and fitness. As a result, he picks the length early and has a swift and decisive backward or forward movement. However, he picks up the line early too, and as a result, reacts to it equally early. This is quite amazing in itself; however, on pitches lacking true bounce and aiding seam movement, it brings about his downfall. Virat tends to 'run his hands through the ball' beside him rather than punching it late under his line of vision (a virtue that his compatriot Ajinkya Rahane excels at).  Overseas Test Antics  He proved his credentials as a Test batsman on the tour of South Africa when he scored a sensational first innings hundred in Johannesburg in the first Test to bail India out of trouble and backed it up with a 96 in the second innings. Although Kohli wasn't exposed to the new ball, with Cheteshwar Pujara and Murali Vijay bunting the shine off it, it was an excellent innings against a formidable bowling line-up. He continued his good form in New Zealand as well and ended the tour on a high with an unbeaten century.  However, against the raised seam of the Dukes ball and the skillful bowling of Anderson, Kohli's technical shortcomings were exposed when India toured England in 2014 for a grueling 5-Test series. He scored just 134 runs in ten innings, edging the ball to the slips by reaching out for it, and showing poor awareness of his off-stump; rather surprising for a batsman of his calibre. It was worrying that India's star batsman had failed them in trying conditions.  He continues his struggles when exposed to the new ball and on 'sticky wickets'. His quiet series against South Africa in late 2015 was full of rank-turners; his injury-marred series against Australia in early 2017 had several wickets that were not conducive to batting; and the England series in 2014, of course. Barring that, the glaring dips in his batting, or 'aberrations', such as Brisbane 2014, Gros Islet 2016, and Pune 2017, have all come in difficult batting conditions, and he has been dismissed – believe it or not – by a chink in his batting technique.  Captaincy and a change in technique  With regular captain MS Dhoni ailing from an injury, Kohli was named stand-in captain for the first Test at Adelaide. After an abysmal tour of England, critics were sceptical of Kohli's performance in Australia in the Border-Gavaskar trophy in December. Kohli proved that they couldn't have been more wrong, as he scored two fluent hundreds in the first Test at Adelaide. His second innings masterclass of 141 almost pulled off a stunning run-chase on a notorious 5th day rank-turner, and went on to score a total of four hundreds on this tour. Saying that he had silenced critics would be an understatement; however, his technique of playing beside the ball, and the bat coming down from gully rather than slip continued to bother him whenever exposed to late lateral movement.  As India prepared for their title defence ahead of the 2015 World Cup Down Under, with the catch phrase 'Won't give it back' doing the rounds, Virat Kohli was touted to be a key performer for India. The Indians had a terrible run in Australia, having failed to win a single match in the Test series as well as the succeeding ODI tri-series. Kohli started off in signature fashion, with a typically stroke-filled hundred against Pakistan as India maintained their unbeaten run against their arch-rivals in ICC events. As India stormed into the semi-finals unbeaten, Kohli's form continued to take an uncharacteristic dip, culminating in a painstaking 1 in the semi-final loss against the co-hosts and eventual champions, Australia.  Kohli, now the full-time Test captain, toured Sri Lanka with a young side without the services of Mahendra Singh Dhoni, wary of the Sri Lankan spinners' fabled 4th innings con-job. After losing the first Test, Kohli's India recorded a dramatic come-from-behind win in the series, going on to win 2-1. Kohli continued to build on his auspicious start to Test captaincy as he led them to a rout of the South Africans on a series of rank-turners all around India. He had a quiet series with the bat, as the more stoic batsmen of his team took over. Nonetheless, the triumph took India to the No. 1 spot in the ICC Test rankings for the first time since they forfeited it to England after the forgettable white-wash in 2011.  IPL and T20 dominance  He continued his emphatic run in the World T20, batting (and running) like a man possessed, thrashing boundaries with ridiculous ease. Despite an 89* in the semi-final against the West Indies (extending his inhuman run of form in the format), India's bowling panicked at a crucial stage. One had to feel sorry for him as he had to make do with the 'Player of the tournament' award for the second successive Twenty20 World Cup; a distinction he would've gladly exchanged for the elusive World T20 trophy. Kohli's thirst for runs showed no signs of slowing down as he looted a small matter of 973 runs during the 2016 edition of the Indian Premier League, the most (by far) by any batsman in the history of the tournament - as he led his Royal Challengers Bangalore (RCB) franchise to a runners-up finish.  What the future holds...  India's tour to South Africa in early 2018, their first major away Test assignment since Australia 2014 (before the 2015 World Cup), offers a new challenge: given a green track, is Virat really as good against the new ball? Is he good enough to play it out in case there are a few quick wickets? He has been protected from the new ball by a stoic Vijay and a solid Pujara until now. However, to make the ascent from 'good' to 'great', Virat Kohli has to prove to the world that he doesn't need to be protected against the new ball; that he is a versatile batsman capable of the grind against the moving ball.  However, it isn't beyond Kohli to prove his critics wrong yet again, as he continues to take criticism on his stride, setting new standards for modern batsmanship. He already possesses an insatiable appetite for runs; and if he can correct this small chink in his armour and adjust his technique to play late and more compact shots in front of him, rather than beside him, then no force could stop him from becoming the perfect batsman. And as a captain, ruthless as he has been at home, if he can hand India the elusive Test series wins in Australia and South Africa, 'unprecedented' won't even begin to describe the extent of his achievements as a leader.  The final frontier  In the first week of 2018, Kohli went on to lead India in South Africa, a few weeks after he tied the knot with Indian actress and long-time girlfriend, Anushka Sharma. India went on to concede the series in the first two Tests, but came back to win the third Test match on a difficult wicket. In a series full of difficult wickets, Kohli exhibited tighter technique than he had in England, and batted better than he did in his more prolific tour of South Africa in 2013/14. Kohli went on to conquer his (personal) final frontier in England later in 2018 too, scoring 593 runs in 10 innings, including 2 hundreds, and not conceding his wicket to his fabled nemesis, Anderson, even once. India went on to lose the series 1-4, and Kohli's record as captain was tainted by two consecutive Test series losses away.  Nevertheless, on a personal level, he had left no stone unturned to transform himself into the most consistent and versatile batsman of his age, and arguably the better of the Big Four. In October 2018, during the second of 3 consecutive hundreds against the West Indies in ODIs, he went on to become the fastest batsmen to reach the 10,000-run mark in ODIs, trouncing Sachin Tendulkar by a staggering 54 innings. Despite arguments about the two new balls, better bats, batting-friendly conditions, and more lethal bowlers, it was difficult to deny that this was a statistical outlier, very much along the lines of 99.94 - perhaps unlikely to ever be trounced.  However, being a cricket romantic (as we all are), as we reflect on his prolific international career (and with a plethora of records to be broken over the next decade) one must look back at the CB series knock that changed it all. On that fateful night at Hobart, Kohli had not only kept his team in contention, he had actually dragged a drained Indian side out of the airport. That night, at the Bellerive Oval, Virat Kohli transcended into a league of his own to etch his name in history - and a cricketing superstar was born.  IPL through the years  Ahead of the 2019 edition of the Indian Premier League (IPL), Virat Kohli showed how much faith he had in the franchise by declaring that he would perhaps end his career with the Bangalore-based Royal Challengers. The only player to be a part of a single franchise for the entire duration of the tournament (right from the start of the cash-rich league in 2008), Kohli has developed an affection with the franchise and with the fans over the period of time.  Having been brought into the franchise as a young emerging player in 2008, Kohli's growth has been stupendous. He learnt under the wings of Rahul Dravid and Anil Kumble, before finally establishing himself under Daniel Vettori. It wasn't a free-flowing start, in a team that was struggling to find the essence of the tournament, it wasn't a surprise that they had a struggling youngster in the midst. Having learnt the ropes in the first three-year cycle, it wasn't a surprise that he was the only player retained in 2011. The purple patch began somewhere around that region, he then proved it wasn't just a purple patch, it was a career that was beginning to flourish. Soon after, Kohli became the best in all aspects, not just white-ball cricket, but in the red-ball version as well.  It became a no-brainer when he was asked to captain the Bangalore franchise on a permanent basis from 2012 and it also translated into more consistency with the bat. Kohli soon turned into a fan favourite even as runs flowed from his bat. Circa, 2016 - the India and RCB captain blasted 973 runs - the most by any player in the history of the game and it included four hundreds - the most by a batsman in a single edition. Alas, all this didn't translate into a title triumph - one that has kept Kohli and Bangalore waiting  World Cup through the years  Arguably one of the finest ODI batsmen of all-time, and certainly the greatest of his generation, Virat Kohli has played two senior World Cups after leading the junior team to the title in 2008. In 2011, on his World Cup debut, Kohli played second fiddle to Virender Sehwag on his way to a fluent hundred against Bangladesh. After a great innings to start with, Kohli had a quiet World Cup before scoring an important 35 in the final to rescue the chase with Gambhir and lay the foundation for a second World Cup triumph. In the 2015 edition, Kohli was fully primed as India's best limited-overs batsman with several solid performances under his belt and started off in fine fashion with a stable hundred against Pakistan. After a 46 against South Africa, his form took a dip during the latter stages of the World Cup before culminating in a 13-ball 1 as India crashed out of the World Cup in the semi-final. His ODI average in the 2017/18 ODI season has been a Bradmanesque 97.5, and he has amassed an unreal 19 hundreds since the 2015 World Cup. After the low of the World Cup ouster in 2015, Kohli leads the Indian side this time, with perhaps the strongest ODI team in the world, and as this generation's greatest ODI batsman.  Written by Rishi Roy\""
      ]
     },
     "execution_count": 56,
     "metadata": {},
     "output_type": "execute_result"
    }
   ],
   "source": [
    "playee_history.text"
   ]
  },
  {
   "cell_type": "code",
   "execution_count": null,
   "metadata": {},
   "outputs": [],
   "source": []
  },
  {
   "cell_type": "code",
   "execution_count": 57,
   "metadata": {},
   "outputs": [],
   "source": [
    "# image=div class \"cb-col cb-col-20 cb-col-rt\"\n",
    "# personal information=div class \"cb-col cb-col-33 text-black\"\n",
    "# batting summary=table class \"table cb-col-100 cb-plyr-thead\"\n",
    "# bowling summary=table class \"table cb-col-100 cb-plyr-thead\"\n",
    "\n",
    "# player history =div class \"cb-col cb-col-100 cb-player-bio\""
   ]
  },
  {
   "cell_type": "code",
   "execution_count": null,
   "metadata": {},
   "outputs": [],
   "source": []
  }
 ],
 "metadata": {
  "kernelspec": {
   "display_name": "Python 3",
   "language": "python",
   "name": "python3"
  },
  "language_info": {
   "codemirror_mode": {
    "name": "ipython",
    "version": 3
   },
   "file_extension": ".py",
   "mimetype": "text/x-python",
   "name": "python",
   "nbconvert_exporter": "python",
   "pygments_lexer": "ipython3",
   "version": "3.7.3"
  }
 },
 "nbformat": 4,
 "nbformat_minor": 2
}
