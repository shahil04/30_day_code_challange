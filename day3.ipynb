{
 "cells": [
  {
   "cell_type": "markdown",
   "metadata": {},
   "source": [
    "# LIST"
   ]
  },
  {
   "cell_type": "markdown",
   "metadata": {},
   "source": [
    "\n",
    "Objectives\n",
    "\n",
    "    Describe, create and access a list data structure\n",
    "\n",
    "    Use built in methods to modify and copy lists\n",
    "\n",
    "    Iterate over lists using loops and list comprehensions\n",
    "\n",
    "    Work with nested lists to build more complex data structures\n",
    "\n"
   ]
  },
  {
   "cell_type": "markdown",
   "metadata": {},
   "source": [
    "\n",
    "\n",
    "What is a List?\n",
    "\n",
    "It's just a collection or grouping of items!\n"
   ]
  },
  {
   "cell_type": "markdown",
   "metadata": {},
   "source": [
    "\n",
    "\n",
    "<font color=\"blue\" size=5>  How are Lists useful?</font>\n",
    "\n",
    "A fundamental data structure for organizing collections of items \n",
    "\n",
    "first_task = \"Install Python\"\n",
    "second_task = \"Learn Python\"\n",
    "third_task = \"Take a break\"\n",
    "No ordering!\n"
   ]
  },
  {
   "cell_type": "code",
   "execution_count": 1,
   "metadata": {},
   "outputs": [],
   "source": [
    "first_task = \"Install Python\"\n",
    "second_task = \"Learn Python\"\n",
    "third_task = \"Take a break\""
   ]
  },
  {
   "cell_type": "code",
   "execution_count": 2,
   "metadata": {},
   "outputs": [
    {
     "data": {
      "text/plain": [
       "'Install Python'"
      ]
     },
     "execution_count": 2,
     "metadata": {},
     "output_type": "execute_result"
    }
   ],
   "source": [
    "first_task"
   ]
  },
  {
   "cell_type": "raw",
   "metadata": {},
   "source": [
    "What Lists Look Like\n",
    "\n",
    "A fundamental data structure for organizing data\n",
    "\n",
    "tasks = [\"Install Python\", \"Learn Python\", \"Take a break\"]\n",
    "\n",
    "Comma separated values\n",
    "\n",
    "first_task = \"Install Python\"\n",
    "second_task = \"Learn Python\"\n",
    "third_task = \"Take a break\"\n",
    "\n",
    "tasks = [first_task, second_task, third_task]"
   ]
  },
  {
   "cell_type": "code",
   "execution_count": 3,
   "metadata": {},
   "outputs": [],
   "source": [
    "tasks = [\"Install Python\", \"Learn Python\", \"Take a break\"]\n"
   ]
  },
  {
   "cell_type": "code",
   "execution_count": 8,
   "metadata": {},
   "outputs": [
    {
     "data": {
      "text/plain": [
       "['Install Python', 'Learn Python', 'Take a break']"
      ]
     },
     "execution_count": 8,
     "metadata": {},
     "output_type": "execute_result"
    }
   ],
   "source": [
    "tasks"
   ]
  },
  {
   "cell_type": "code",
   "execution_count": 9,
   "metadata": {},
   "outputs": [
    {
     "data": {
      "text/plain": [
       "3"
      ]
     },
     "execution_count": 9,
     "metadata": {},
     "output_type": "execute_result"
    }
   ],
   "source": [
    "#it is checks how many items in tasks list\n",
    "len(tasks)"
   ]
  },
  {
   "cell_type": "markdown",
   "metadata": {},
   "source": [
    "    \n",
    "\n",
    "Another Way to Make a List\n",
    "\n",
    "Using another built in function called\n",
    "\n",
    "tasks = list(range(1, 4))\n",
    "\n",
    "We'll use this technique of list-making more later with several other data types!\n"
   ]
  },
  {
   "cell_type": "code",
   "execution_count": 11,
   "metadata": {},
   "outputs": [],
   "source": [
    "#anoter way of make list\n",
    "tasks1=list(range(1,5))"
   ]
  },
  {
   "cell_type": "code",
   "execution_count": 12,
   "metadata": {},
   "outputs": [
    {
     "data": {
      "text/plain": [
       "[1, 2, 3, 4]"
      ]
     },
     "execution_count": 12,
     "metadata": {},
     "output_type": "execute_result"
    }
   ],
   "source": [
    "tasks1"
   ]
  },
  {
   "cell_type": "code",
   "execution_count": 16,
   "metadata": {},
   "outputs": [
    {
     "name": "stdout",
     "output_type": "stream",
     "text": [
      "1\n",
      "2\n",
      "3\n",
      "4\n"
     ]
    }
   ],
   "source": [
    "#accesing value of list\n",
    "print(tasks1[0])\n",
    "print(tasks1[1])\n",
    "print(tasks1[2])\n",
    "print(tasks1[3])\n",
    "#Like ranges, lists ALWAYS start counting at zero. So the first element lives at index 0"
   ]
  },
  {
   "cell_type": "code",
   "execution_count": 19,
   "metadata": {},
   "outputs": [
    {
     "name": "stdout",
     "output_type": "stream",
     "text": [
      "4\n",
      "3\n",
      "2\n"
     ]
    }
   ],
   "source": [
    "#accessing values from ends\n",
    "print(tasks1[-1])\n",
    "print(tasks1[-2])\n",
    "print(tasks1[-3])"
   ]
  },
  {
   "cell_type": "code",
   "execution_count": 20,
   "metadata": {},
   "outputs": [
    {
     "name": "stdout",
     "output_type": "stream",
     "text": [
      "True\n",
      "False\n"
     ]
    }
   ],
   "source": [
    "#check if the value in list\n",
    "print(1 in tasks)\n",
    "print(5 in tasks)"
   ]
  },
  {
   "cell_type": "code",
   "execution_count": 22,
   "metadata": {},
   "outputs": [
    {
     "name": "stdout",
     "output_type": "stream",
     "text": [
      "1\n",
      "2\n",
      "3\n",
      "4\n"
     ]
    }
   ],
   "source": [
    "#accessing all values by for loop\n",
    "for i in tasks: #for is a single item select from starting to end of itemlist\n",
    "    print(i)"
   ]
  },
  {
   "cell_type": "code",
   "execution_count": 23,
   "metadata": {},
   "outputs": [
    {
     "name": "stdout",
     "output_type": "stream",
     "text": [
      "1\n",
      "2\n",
      "3\n",
      "4\n"
     ]
    }
   ],
   "source": [
    "#using while loop\n",
    "i=0\n",
    "while(i<len(tasks)):\n",
    "    print(tasks[i])\n",
    "    i=i+1"
   ]
  },
  {
   "cell_type": "markdown",
   "metadata": {},
   "source": [
    "list Methods\n",
    "\n",
    "Working with lists is very common - there are quite a few things we can do!\n"
   ]
  },
  {
   "cell_type": "code",
   "execution_count": 24,
   "metadata": {},
   "outputs": [],
   "source": [
    "#append\n",
    "tasks.append(2)# append add the element at the end  of list"
   ]
  },
  {
   "cell_type": "code",
   "execution_count": 25,
   "metadata": {},
   "outputs": [
    {
     "data": {
      "text/plain": [
       "[1, 2, 3, 4, 2]"
      ]
     },
     "execution_count": 25,
     "metadata": {},
     "output_type": "execute_result"
    }
   ],
   "source": [
    "tasks"
   ]
  },
  {
   "cell_type": "markdown",
   "metadata": {},
   "source": [
    "\n",
    "\n",
    "extend\n",
    "\n",
    "first_list = [1, 2, 3, 4]\n",
    "\n",
    "first_list.append(5, 6, 7, 8) # does not work!\n",
    "\n",
    "first_list.append([5, 6, 7, 8])\n",
    "\n",
    "print(first_list) # [1, 2, 3, 4,  [5, 6, 7, 8]]\n",
    "\n",
    "correct_list = [1, 2, 3, 4]\n",
    "\n",
    "correct_list.extend([5, 6, 7, 8])\n",
    "\n",
    "print(correct_list) # [1, 2, 3, 4, 5, 6, 7, 8]\n",
    "\n",
    "Add to the end of a list all values passed to extend\n"
   ]
  },
  {
   "cell_type": "code",
   "execution_count": 26,
   "metadata": {},
   "outputs": [],
   "source": [
    "#extend\n",
    "ta2=[7,5,94,5]\n",
    "tasks.extend(ta2)"
   ]
  },
  {
   "cell_type": "code",
   "execution_count": 27,
   "metadata": {},
   "outputs": [
    {
     "data": {
      "text/plain": [
       "[1, 2, 3, 4, 2, 7, 5, 94, 5]"
      ]
     },
     "execution_count": 27,
     "metadata": {},
     "output_type": "execute_result"
    }
   ],
   "source": [
    "tasks"
   ]
  },
  {
   "cell_type": "code",
   "execution_count": null,
   "metadata": {},
   "outputs": [],
   "source": [
    "#insert method \n",
    "#listname.insert(position ,value)\n",
    "tasks.insert(0,39)"
   ]
  },
  {
   "cell_type": "code",
   "execution_count": null,
   "metadata": {},
   "outputs": [],
   "source": []
  }
 ],
 "metadata": {
  "kernelspec": {
   "display_name": "Python 3",
   "language": "python",
   "name": "python3"
  },
  "language_info": {
   "codemirror_mode": {
    "name": "ipython",
    "version": 3
   },
   "file_extension": ".py",
   "mimetype": "text/x-python",
   "name": "python",
   "nbconvert_exporter": "python",
   "pygments_lexer": "ipython3",
   "version": "3.7.3"
  }
 },
 "nbformat": 4,
 "nbformat_minor": 2
}
