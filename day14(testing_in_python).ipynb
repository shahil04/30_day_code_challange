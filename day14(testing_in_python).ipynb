{
 "cells": [
  {
   "cell_type": "markdown",
   "metadata": {},
   "source": [
    "# testing in python"
   ]
  },
  {
   "cell_type": "raw",
   "metadata": {},
   "source": [
    "OBJECTIVES\n",
    "Describe what tests are and why they are essential\n",
    "Explain what Test Driven Development is\n",
    "Test Python code using doctests\n",
    "Test Python code using assert\n",
    "Explain what unit testing is\n",
    "Write unit tests using the unittest module\n",
    "Remove code duplication using before and after hooks"
   ]
  },
  {
   "cell_type": "markdown",
   "metadata": {},
   "source": [
    "## Why test?\n",
    "\n",
    "Reduce bugs in existing code<br>\n",
    "Ensure bugs that are fixed stay fixed<br>\n",
    "Ensure that new features don't break old ones<br>\n",
    "Ensure that cleaning up code doesn't introduce new bugs<br>\n",
    "Makes development more fun!<br>"
   ]
  },
  {
   "cell_type": "markdown",
   "metadata": {},
   "source": [
    "### Test Driven Development\n",
    "\n",
    "Development begins by writing tests<br>\n",
    "Once tests are written, write code to make tests pass<br>\n",
    "Once tests pass, a feature is considered complete<br>"
   ]
  },
  {
   "cell_type": "markdown",
   "metadata": {},
   "source": [
    "#### Red, Green, Refactor\n",
    "\n",
    "Red - Write a test that fails<br>\n",
    "Green - Write the minimal amount of code necessary to make the test pass<br>\n",
    "Refactor - Clean up the code, while ensuring that tests still pass<br>"
   ]
  },
  {
   "cell_type": "markdown",
   "metadata": {},
   "source": [
    "#### Assertions\n",
    "\n",
    "We can make simple assertions with the assert keyword<br>\n",
    "assert accepts an expression<br>\n",
    "Returns None if the expression is truthy<br>\n",
    "Raises an AssertionError if the expression is falsy<br>\n",
    "Accepts an optional error message as a second argument<br>"
   ]
  },
  {
   "cell_type": "code",
   "execution_count": 2,
   "metadata": {},
   "outputs": [],
   "source": [
    "def test_sum_of_positive_num(x,y):\n",
    "    assert x>0 and y>0, 'both number must be positive'\n",
    "    return x+y"
   ]
  },
  {
   "cell_type": "code",
   "execution_count": 3,
   "metadata": {},
   "outputs": [
    {
     "data": {
      "text/plain": [
       "9"
      ]
     },
     "execution_count": 3,
     "metadata": {},
     "output_type": "execute_result"
    }
   ],
   "source": [
    "test_sum_of_positive_num(4,5)"
   ]
  },
  {
   "cell_type": "code",
   "execution_count": 4,
   "metadata": {},
   "outputs": [
    {
     "ename": "AssertionError",
     "evalue": "both number must be positive",
     "output_type": "error",
     "traceback": [
      "\u001b[0;31m---------------------------------------------------------------------------\u001b[0m",
      "\u001b[0;31mAssertionError\u001b[0m                            Traceback (most recent call last)",
      "\u001b[0;32m<ipython-input-4-21f635236cd3>\u001b[0m in \u001b[0;36m<module>\u001b[0;34m\u001b[0m\n\u001b[0;32m----> 1\u001b[0;31m \u001b[0mtest_sum_of_positive_num\u001b[0m\u001b[0;34m(\u001b[0m\u001b[0;34m-\u001b[0m\u001b[0;36m3\u001b[0m\u001b[0;34m,\u001b[0m\u001b[0;36m3\u001b[0m\u001b[0;34m)\u001b[0m\u001b[0;34m\u001b[0m\u001b[0;34m\u001b[0m\u001b[0m\n\u001b[0m",
      "\u001b[0;32m<ipython-input-2-d65f2566c1ad>\u001b[0m in \u001b[0;36mtest_sum_of_positive_num\u001b[0;34m(x, y)\u001b[0m\n\u001b[1;32m      1\u001b[0m \u001b[0;32mdef\u001b[0m \u001b[0mtest_sum_of_positive_num\u001b[0m\u001b[0;34m(\u001b[0m\u001b[0mx\u001b[0m\u001b[0;34m,\u001b[0m\u001b[0my\u001b[0m\u001b[0;34m)\u001b[0m\u001b[0;34m:\u001b[0m\u001b[0;34m\u001b[0m\u001b[0;34m\u001b[0m\u001b[0m\n\u001b[0;32m----> 2\u001b[0;31m     \u001b[0;32massert\u001b[0m \u001b[0mx\u001b[0m\u001b[0;34m>\u001b[0m\u001b[0;36m0\u001b[0m \u001b[0;32mand\u001b[0m \u001b[0my\u001b[0m\u001b[0;34m>\u001b[0m\u001b[0;36m0\u001b[0m\u001b[0;34m,\u001b[0m \u001b[0;34m'both number must be positive'\u001b[0m\u001b[0;34m\u001b[0m\u001b[0;34m\u001b[0m\u001b[0m\n\u001b[0m\u001b[1;32m      3\u001b[0m     \u001b[0;32mreturn\u001b[0m \u001b[0mx\u001b[0m\u001b[0;34m+\u001b[0m\u001b[0my\u001b[0m\u001b[0;34m\u001b[0m\u001b[0;34m\u001b[0m\u001b[0m\n",
      "\u001b[0;31mAssertionError\u001b[0m: both number must be positive"
     ]
    }
   ],
   "source": [
    "test_sum_of_positive_num(-3,3)"
   ]
  },
  {
   "cell_type": "code",
   "execution_count": 5,
   "metadata": {},
   "outputs": [],
   "source": [
    "assert 4==4\n"
   ]
  },
  {
   "cell_type": "code",
   "execution_count": 7,
   "metadata": {},
   "outputs": [
    {
     "ename": "AssertionError",
     "evalue": "",
     "output_type": "error",
     "traceback": [
      "\u001b[0;31m---------------------------------------------------------------------------\u001b[0m",
      "\u001b[0;31mAssertionError\u001b[0m                            Traceback (most recent call last)",
      "\u001b[0;32m<ipython-input-7-c9388b4253e9>\u001b[0m in \u001b[0;36m<module>\u001b[0;34m\u001b[0m\n\u001b[0;32m----> 1\u001b[0;31m \u001b[0;32massert\u001b[0m \u001b[0;36m4\u001b[0m\u001b[0;34m==\u001b[0m\u001b[0;36m2\u001b[0m\u001b[0;34m\u001b[0m\u001b[0;34m\u001b[0m\u001b[0m\n\u001b[0m",
      "\u001b[0;31mAssertionError\u001b[0m: "
     ]
    }
   ],
   "source": [
    "assert 4==2"
   ]
  },
  {
   "cell_type": "code",
   "execution_count": 8,
   "metadata": {},
   "outputs": [
    {
     "ename": "AssertionError",
     "evalue": "4 not equal to 2",
     "output_type": "error",
     "traceback": [
      "\u001b[0;31m---------------------------------------------------------------------------\u001b[0m",
      "\u001b[0;31mAssertionError\u001b[0m                            Traceback (most recent call last)",
      "\u001b[0;32m<ipython-input-8-4399e6fae663>\u001b[0m in \u001b[0;36m<module>\u001b[0;34m\u001b[0m\n\u001b[0;32m----> 1\u001b[0;31m \u001b[0;32massert\u001b[0m \u001b[0;36m4\u001b[0m\u001b[0;34m==\u001b[0m\u001b[0;36m2\u001b[0m \u001b[0;34m,\u001b[0m\u001b[0;34m\"4 not equal to 2\"\u001b[0m\u001b[0;34m\u001b[0m\u001b[0;34m\u001b[0m\u001b[0m\n\u001b[0m",
      "\u001b[0;31mAssertionError\u001b[0m: 4 not equal to 2"
     ]
    }
   ],
   "source": [
    "assert 4==2 ,\"4 not equal to 2\" "
   ]
  },
  {
   "cell_type": "code",
   "execution_count": 9,
   "metadata": {},
   "outputs": [],
   "source": [
    "# you can also pass a list in assert \n",
    "def brand(brand_name):\n",
    "    assert brand_name in [\"louis philipe\",\n",
    "                         'addidas',\n",
    "                         \"rebook\",\n",
    "                         \"fastrack\",\n",
    "                         \"spark\"], \"brand name must be international not a local brand name\"\n",
    "    return f\"ya you are like {brand_name} brand .it is so cool \""
   ]
  },
  {
   "cell_type": "code",
   "execution_count": 10,
   "metadata": {},
   "outputs": [
    {
     "data": {
      "text/plain": [
       "'ya you are like spark brand .it is so cool '"
      ]
     },
     "execution_count": 10,
     "metadata": {},
     "output_type": "execute_result"
    }
   ],
   "source": [
    "brand(\"spark\")"
   ]
  },
  {
   "cell_type": "code",
   "execution_count": 11,
   "metadata": {},
   "outputs": [
    {
     "ename": "AssertionError",
     "evalue": "brand name must be international not a local brand name",
     "output_type": "error",
     "traceback": [
      "\u001b[0;31m---------------------------------------------------------------------------\u001b[0m",
      "\u001b[0;31mAssertionError\u001b[0m                            Traceback (most recent call last)",
      "\u001b[0;32m<ipython-input-11-f293b09cb360>\u001b[0m in \u001b[0;36m<module>\u001b[0;34m\u001b[0m\n\u001b[0;32m----> 1\u001b[0;31m \u001b[0mbrand\u001b[0m\u001b[0;34m(\u001b[0m\u001b[0;34m\"desial\"\u001b[0m\u001b[0;34m)\u001b[0m\u001b[0;34m\u001b[0m\u001b[0;34m\u001b[0m\u001b[0m\n\u001b[0m",
      "\u001b[0;32m<ipython-input-9-97798ed99bf4>\u001b[0m in \u001b[0;36mbrand\u001b[0;34m(brand_name)\u001b[0m\n\u001b[1;32m      5\u001b[0m                          \u001b[0;34m\"rebook\"\u001b[0m\u001b[0;34m,\u001b[0m\u001b[0;34m\u001b[0m\u001b[0;34m\u001b[0m\u001b[0m\n\u001b[1;32m      6\u001b[0m                          \u001b[0;34m\"fastrack\"\u001b[0m\u001b[0;34m,\u001b[0m\u001b[0;34m\u001b[0m\u001b[0;34m\u001b[0m\u001b[0m\n\u001b[0;32m----> 7\u001b[0;31m                          \"spark\"], \"brand name must be international not a local brand name\"\n\u001b[0m\u001b[1;32m      8\u001b[0m     \u001b[0;32mreturn\u001b[0m \u001b[0;34mf\"ya you are like {brand_name} brand .it is so cool \"\u001b[0m\u001b[0;34m\u001b[0m\u001b[0;34m\u001b[0m\u001b[0m\n",
      "\u001b[0;31mAssertionError\u001b[0m: brand name must be international not a local brand name"
     ]
    }
   ],
   "source": [
    "brand(\"desial\")"
   ]
  },
  {
   "cell_type": "markdown",
   "metadata": {},
   "source": [
    "#### Assertions Warning\n",
    "\n",
    "If a Python file is run with the -O flag, assertions will not be evaluated!"
   ]
  },
  {
   "cell_type": "code",
   "execution_count": 17,
   "metadata": {},
   "outputs": [],
   "source": [
    "# if you run a python file with -O then assert avoid by the function\n",
    "# write a python testiming file like me testing.py\n",
    "#and run in terminal by python3 -O testing.py \n",
    "#or you pass the brand_name then you dont have any assertion error found"
   ]
  },
  {
   "cell_type": "markdown",
   "metadata": {},
   "source": [
    "## doctests\n",
    "\n",
    "We can write tests for functions inside of the docstring<br>\n",
    "Write code that looks like it's inside of a REPL"
   ]
  },
  {
   "cell_type": "raw",
   "metadata": {},
   "source": [
    "doctests Example\n",
    "\n",
    "def add(x, y):\n",
    "    \"\"\"add together x and y\n",
    "\n",
    "    >>> add(1, 2)\n",
    "    3\n",
    "\n",
    "    >>> add(8, \"hi\")\n",
    "    Traceback (most recent call last):\n",
    "        ...\n",
    "    TypeError: unsupported operand type(s) for +: 'int' and 'str'\n",
    "    \"\"\"\n",
    "    \n",
    "Run these tests with:\n",
    "\n",
    "python3 -m doctest -v YOUR_FILE_NAME.py"
   ]
  },
  {
   "cell_type": "raw",
   "metadata": {},
   "source": [
    "# doctests example\n",
    "def add(x,y):\n",
    "    \"\"\"add together x,y\n",
    "    \n",
    "    >>> add(4,3)\n",
    "    7\n",
    "    \n",
    "    >>> add(8, \"hi\")\n",
    "    Traceback (most recent call last):\n",
    "        ...\n",
    "    TypeError: unsupported operand type(s) for +: 'int' and 'str'\n",
    "    \n",
    "    >>> add(1,None)\n",
    "    1\n",
    "    \n",
    "    >>> add(1,2)\n",
    "    True\n",
    "    \n",
    "    >>> add(True,True)\n",
    "    \"\"\"\n",
    "    return x+y"
   ]
  },
  {
   "cell_type": "raw",
   "metadata": {},
   "source": [
    "# doctest example result in terminal look like this\n",
    "\n",
    "\n",
    "Lenovo-ideapad-320-15ISK:~/Desktop/30_days_code_challange$ python3 -m doctest -v testing.py\n",
    "Trying:\n",
    "    add(4,3)\n",
    "Expecting:\n",
    "    7\n",
    "ok\n",
    "Trying:\n",
    "    add(8, \"hi\")\n",
    "Expecting:\n",
    "    Traceback (most recent call last):\n",
    "        ...\n",
    "    TypeError: unsupported operand type(s) for +: 'int' and 'str'\n",
    "ok\n",
    "Trying:\n",
    "    add(1,None)\n",
    "Expecting:\n",
    "    1\n",
    "**********************************************************************\n",
    "File \"/home/rahish/Desktop/30_days_code_challange/testing.py\", line 32, in testing.add\n",
    "Failed example:\n",
    "    add(1,None)\n",
    "Exception raised:\n",
    "    Traceback (most recent call last):\n",
    "      File \"/home/rahish/anaconda3/lib/python3.7/doctest.py\", line 1329, in __run\n",
    "        compileflags, 1), test.globs)\n",
    "      File \"<doctest testing.add[2]>\", line 1, in <module>\n",
    "        add(1,None)\n",
    "      File \"/home/rahish/Desktop/30_days_code_challange/testing.py\", line 40, in add\n",
    "        return x+y\n",
    "    TypeError: unsupported operand type(s) for +: 'int' and 'NoneType'\n",
    "Trying:\n",
    "    add(1,2)\n",
    "Expecting:\n",
    "    True\n",
    "**********************************************************************\n",
    "File \"/home/rahish/Desktop/30_days_code_challange/testing.py\", line 35, in testing.add\n",
    "Failed example:\n",
    "    add(1,2)\n",
    "Expected:\n",
    "    True\n",
    "Got:\n",
    "    3\n",
    "Trying:\n",
    "    add(True,True)\n",
    "Expecting nothing\n",
    "**********************************************************************\n",
    "File \"/home/rahish/Desktop/30_days_code_challange/testing.py\", line 38, in testing.add\n",
    "Failed example:\n",
    "    add(True,True)\n",
    "Expected nothing\n",
    "Got:\n",
    "    2\n",
    "1 items had no tests:\n",
    "    testing\n",
    "**********************************************************************\n",
    "1 items had failures:\n",
    "   3 of   5 in testing.add\n",
    "5 tests in 2 items.\n",
    "2 passed and 3 failed.\n",
    "***Test Failed*** 3 failures.\n",
    "\n",
    "Test should fail at first - remember \"Red, Green, Refactor\""
   ]
  },
  {
   "cell_type": "markdown",
   "metadata": {},
   "source": [
    "##### Issues with doctests\n",
    "\n",
    "Syntax is a little strange<br>\n",
    "Clutters up our function code<br>\n",
    "Lacks many features of larger testing tools<br>\n",
    "Tests can be brittle<br>"
   ]
  },
  {
   "cell_type": "markdown",
   "metadata": {},
   "source": [
    "## Unit testing\n",
    "\n",
    "Test smallest parts of an application in isolation (e.g. units)<br>\n",
    "Good candidates for unit testing: individual classes, modules, or functions<br>\n",
    "Bad candidates for unit testing: an entire application, dependencies across several classes or modules<br>"
   ]
  },
  {
   "cell_type": "markdown",
   "metadata": {},
   "source": [
    "### unittest\n",
    "\n",
    "Python comes with a built-in module called unittest<br>\n",
    "You can write unit tests encapsulated as classes that inherit from unittest.TestCase<br>\n",
    "This inheritance gives you access to many assertion helpers that let you test the behavior of your functions<br>\n",
    "You can run tests by calling unittest.main()<br>"
   ]
  },
  {
   "cell_type": "code",
   "execution_count": null,
   "metadata": {},
   "outputs": [],
   "source": []
  }
 ],
 "metadata": {
  "kernelspec": {
   "display_name": "Python 3",
   "language": "python",
   "name": "python3"
  },
  "language_info": {
   "codemirror_mode": {
    "name": "ipython",
    "version": 3
   },
   "file_extension": ".py",
   "mimetype": "text/x-python",
   "name": "python",
   "nbconvert_exporter": "python",
   "pygments_lexer": "ipython3",
   "version": "3.7.3"
  }
 },
 "nbformat": 4,
 "nbformat_minor": 2
}
