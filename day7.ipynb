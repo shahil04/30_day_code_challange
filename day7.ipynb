{
 "cells": [
  {
   "cell_type": "markdown",
   "metadata": {},
   "source": [
    "# important built in function"
   ]
  },
  {
   "cell_type": "markdown",
   "metadata": {},
   "source": [
    "1.)LAMBDA Function\n",
    "\n",
    "Lambda Syntax\n",
    "\n",
    "add_values = lambda x, y: x + y\n",
    "\n",
    "multiply_values = lambda x, y: x + y\n",
    "\n",
    "add_values(10, 20) # 30\n",
    "\n",
    "multiply_values(10, 20) # 200"
   ]
  },
  {
   "cell_type": "code",
   "execution_count": 2,
   "metadata": {},
   "outputs": [],
   "source": [
    "#normal function\n",
    "def func(): # here is function name is func but lambda has no any name \n",
    "    print(\"hello world!\")"
   ]
  },
  {
   "cell_type": "code",
   "execution_count": 3,
   "metadata": {},
   "outputs": [
    {
     "name": "stdout",
     "output_type": "stream",
     "text": [
      "hello world!\n"
     ]
    }
   ],
   "source": [
    "func()"
   ]
  },
  {
   "cell_type": "code",
   "execution_count": 4,
   "metadata": {},
   "outputs": [
    {
     "data": {
      "text/plain": [
       "<function __main__.<lambda>(x, y)>"
      ]
     },
     "execution_count": 4,
     "metadata": {},
     "output_type": "execute_result"
    }
   ],
   "source": [
    "#lamda is also called annanomys function\n",
    "lambda x,y:x+y"
   ]
  },
  {
   "cell_type": "code",
   "execution_count": 6,
   "metadata": {},
   "outputs": [],
   "source": [
    "# so for use this lambda function we assign the lambda in any variable\n",
    "\n",
    "result=lambda x,y:x+y"
   ]
  },
  {
   "cell_type": "code",
   "execution_count": 7,
   "metadata": {},
   "outputs": [
    {
     "data": {
      "text/plain": [
       "5"
      ]
     },
     "execution_count": 7,
     "metadata": {},
     "output_type": "execute_result"
    }
   ],
   "source": [
    "result(2,3)"
   ]
  },
  {
   "cell_type": "markdown",
   "metadata": {},
   "source": [
    "# map function\n",
    "l = [1, 2, 3, 4]\n",
    "\n",
    "doubles = list(map(lambda x: x * 2, l))\n",
    "\n",
    "evens # [2, 4, 6, 8]\n",
    "A standard function that accepts at least two arguments, a function and an \"iterable\"\n",
    "\n",
    "iterable - something that can be iterated over (lists, strings, dictionaries, sets, tuples)\n",
    "\n",
    "runs the lambda for each value in the iterable and returns a map object which can be converted into another data structure"
   ]
  },
  {
   "cell_type": "code",
   "execution_count": 8,
   "metadata": {},
   "outputs": [],
   "source": [
    "#we have a list of iterable list or tuple\n",
    "a=[2,3,4,6,8,9,5]\n"
   ]
  },
  {
   "cell_type": "code",
   "execution_count": 9,
   "metadata": {},
   "outputs": [],
   "source": [
    "# if we check any thing we simple run a function\n",
    "result_list=[]\n",
    "for i in a:\n",
    "    j=i*2\n",
    "    result_list.append(j)\n"
   ]
  },
  {
   "cell_type": "code",
   "execution_count": 10,
   "metadata": {},
   "outputs": [
    {
     "data": {
      "text/plain": [
       "[4, 6, 8, 12, 16, 18, 10]"
      ]
     },
     "execution_count": 10,
     "metadata": {},
     "output_type": "execute_result"
    }
   ],
   "source": [
    "result_list #we use map function to do this in a one line code and more read able"
   ]
  },
  {
   "cell_type": "code",
   "execution_count": 11,
   "metadata": {},
   "outputs": [],
   "source": [
    "#help of lambda or any function\n",
    "double=[map(lambda x:x*2,a)]"
   ]
  },
  {
   "cell_type": "code",
   "execution_count": 13,
   "metadata": {},
   "outputs": [
    {
     "name": "stdout",
     "output_type": "stream",
     "text": [
      "[<map object at 0x7fa34c3edb38>]\n"
     ]
    }
   ],
   "source": [
    "print(double)"
   ]
  },
  {
   "cell_type": "code",
   "execution_count": 14,
   "metadata": {},
   "outputs": [],
   "source": [
    "#help of lambda or any function\n",
    "double=list(map(lambda x:x*2,a))"
   ]
  },
  {
   "cell_type": "code",
   "execution_count": 15,
   "metadata": {},
   "outputs": [
    {
     "data": {
      "text/plain": [
       "[4, 6, 8, 12, 16, 18, 10]"
      ]
     },
     "execution_count": 15,
     "metadata": {},
     "output_type": "execute_result"
    }
   ],
   "source": [
    "double"
   ]
  },
  {
   "cell_type": "code",
   "execution_count": 16,
   "metadata": {},
   "outputs": [],
   "source": [
    "#use anoter function\n",
    "def add(a):\n",
    "    return a**2"
   ]
  },
  {
   "cell_type": "code",
   "execution_count": 17,
   "metadata": {},
   "outputs": [],
   "source": [
    "add_map=list(map(add,a))"
   ]
  },
  {
   "cell_type": "code",
   "execution_count": 18,
   "metadata": {},
   "outputs": [
    {
     "data": {
      "text/plain": [
       "[4, 9, 16, 36, 64, 81, 25]"
      ]
     },
     "execution_count": 18,
     "metadata": {},
     "output_type": "execute_result"
    }
   ],
   "source": [
    "add_map"
   ]
  },
  {
   "cell_type": "markdown",
   "metadata": {},
   "source": [
    "# filter function\n",
    "\n",
    "There is a lambda for each value in the iterable.\n",
    "\n",
    "Returns filter object which can be converted into other iterables\n",
    "\n",
    "The object contains only the values that return true to the lambda"
   ]
  },
  {
   "cell_type": "code",
   "execution_count": 20,
   "metadata": {},
   "outputs": [],
   "source": [
    "num_list=[1,2,3,5,7,8,9,10]\n",
    "filter_even=list(filter(lambda x:x%2==0,num_list))"
   ]
  },
  {
   "cell_type": "code",
   "execution_count": 21,
   "metadata": {},
   "outputs": [
    {
     "data": {
      "text/plain": [
       "[2, 8, 10]"
      ]
     },
     "execution_count": 21,
     "metadata": {},
     "output_type": "execute_result"
    }
   ],
   "source": [
    "filter_even"
   ]
  },
  {
   "cell_type": "raw",
   "metadata": {},
   "source": [
    "Combining filter and map\n",
    "\n"
   ]
  },
  {
   "cell_type": "code",
   "execution_count": 29,
   "metadata": {},
   "outputs": [
    {
     "data": {
      "text/plain": [
       "['your learner is sha', 'your learner is ram']"
      ]
     },
     "execution_count": 29,
     "metadata": {},
     "output_type": "execute_result"
    }
   ],
   "source": [
    "names=['sha','ram','sammer']\n",
    "list(map(lambda name:f\"your learner is {name}\",\n",
    "        filter(lambda value:len(value)<4,names)))\n",
    "\n",
    "# Return a new list with the string\n",
    "\n",
    "# \"Your instructor is \" + each value in the array,\n",
    "\n",
    "# but only if the value is less than 5 characters"
   ]
  },
  {
   "cell_type": "code",
   "execution_count": 30,
   "metadata": {},
   "outputs": [
    {
     "data": {
      "text/plain": [
       "[2, 8, 10]"
      ]
     },
     "execution_count": 30,
     "metadata": {},
     "output_type": "execute_result"
    }
   ],
   "source": [
    "# What about List Comprehension?\n",
    "[x for x in num_list if x%2==0]"
   ]
  },
  {
   "cell_type": "code",
   "execution_count": 31,
   "metadata": {},
   "outputs": [],
   "source": [
    "#reduce\n",
    "from functools import reduce\n",
    "\n",
    "l = [1,2,3,4]\n",
    "\n",
    "product = reduce(lambda x, y: x * y, l)\n",
    "\n",
    "l = [1,2,3,4]\n",
    "\n",
    "total = reduce(lambda x, y: x + y, l, 10)\n",
    "#runs a function of two arguments cumulatively to the items of iterable, \n",
    "#from left to right, which reduces the iterable to a single value"
   ]
  },
  {
   "cell_type": "code",
   "execution_count": 34,
   "metadata": {},
   "outputs": [
    {
     "data": {
      "text/plain": [
       "24"
      ]
     },
     "execution_count": 34,
     "metadata": {},
     "output_type": "execute_result"
    }
   ],
   "source": [
    "product\n",
    "# You will not be using reduce frequently so \n",
    "# it's good to know it exists, but you will not find yourself using it since we have a better option in most cases\n"
   ]
  },
  {
   "cell_type": "code",
   "execution_count": 33,
   "metadata": {},
   "outputs": [
    {
     "data": {
      "text/plain": [
       "20"
      ]
     },
     "execution_count": 33,
     "metadata": {},
     "output_type": "execute_result"
    }
   ],
   "source": [
    "total"
   ]
  },
  {
   "cell_type": "markdown",
   "metadata": {},
   "source": [
    "# Closures\n",
    "\n",
    "Accessing variables defined in outer functions after they have returned!\n",
    "\n",
    "- private variables\n",
    "\n",
    "- not using global variables"
   ]
  },
  {
   "cell_type": "code",
   "execution_count": 35,
   "metadata": {},
   "outputs": [],
   "source": [
    "#\"Public\" Counter\n",
    "\n",
    "count = 0\n",
    "\n",
    "def counter():\n",
    "    global count\n",
    "    count += 1\n",
    "    return count\n",
    "# This works, but anyone can change count!"
   ]
  },
  {
   "cell_type": "code",
   "execution_count": 36,
   "metadata": {},
   "outputs": [],
   "source": [
    "#\"Private\" Counter\n",
    "\n",
    "def counter():\n",
    "    count = 0\n",
    "    count += 1\n",
    "    return count\n",
    "\n",
    "\n",
    "#No one can change count directly, but it keeps getting redefined!"
   ]
  },
  {
   "cell_type": "code",
   "execution_count": 37,
   "metadata": {},
   "outputs": [
    {
     "ename": "SyntaxError",
     "evalue": "invalid syntax (<ipython-input-37-05b07dad4469>, line 1)",
     "output_type": "error",
     "traceback": [
      "\u001b[0;36m  File \u001b[0;32m\"<ipython-input-37-05b07dad4469>\"\u001b[0;36m, line \u001b[0;32m1\u001b[0m\n\u001b[0;31m    Closures using nonlocal\u001b[0m\n\u001b[0m                 ^\u001b[0m\n\u001b[0;31mSyntaxError\u001b[0m\u001b[0;31m:\u001b[0m invalid syntax\n"
     ]
    }
   ],
   "source": [
    "Closures using nonlocal\n",
    "\n",
    "def counter():\n",
    "    count = 0\n",
    "    def inner():\n",
    "        nonlocal count\n",
    "        count += 1\n",
    "        return count\n",
    "    return inner\n",
    "\n",
    "\n",
    "Here we're making a variable count inside the counter function, which can only be accessed by counter and inner.\n",
    "\n",
    "Once we return inner, we can still remember count through closure!"
   ]
  },
  {
   "cell_type": "code",
   "execution_count": 38,
   "metadata": {},
   "outputs": [
    {
     "ename": "SyntaxError",
     "evalue": "invalid syntax (<ipython-input-38-57d62a7f3d4e>, line 1)",
     "output_type": "error",
     "traceback": [
      "\u001b[0;36m  File \u001b[0;32m\"<ipython-input-38-57d62a7f3d4e>\"\u001b[0;36m, line \u001b[0;32m1\u001b[0m\n\u001b[0;31m    Closures using Objects\u001b[0m\n\u001b[0m                 ^\u001b[0m\n\u001b[0;31mSyntaxError\u001b[0m\u001b[0;31m:\u001b[0m invalid syntax\n"
     ]
    }
   ],
   "source": [
    "Closures using Objects\n",
    "\n",
    "def counter():\n",
    "    counter.count = 0\n",
    "    def inner():\n",
    "        counter.count += 1\n",
    "        return counter.count\n",
    "    return inner\n",
    "Here we're making a property on the counter function which can only be accessed by counter and inner.\n",
    "\n",
    "Once we return inner, we can still remember the count property through closure!"
   ]
  },
  {
   "cell_type": "code",
   "execution_count": 39,
   "metadata": {},
   "outputs": [
    {
     "ename": "SyntaxError",
     "evalue": "invalid syntax (<ipython-input-39-d2643ea615fc>, line 1)",
     "output_type": "error",
     "traceback": [
      "\u001b[0;36m  File \u001b[0;32m\"<ipython-input-39-d2643ea615fc>\"\u001b[0;36m, line \u001b[0;32m1\u001b[0m\n\u001b[0;31m    Partial Application with Closures\u001b[0m\n\u001b[0m                      ^\u001b[0m\n\u001b[0;31mSyntaxError\u001b[0m\u001b[0;31m:\u001b[0m invalid syntax\n"
     ]
    }
   ],
   "source": [
    "Partial Application with Closures\n",
    "\n",
    "def outer(a):\n",
    "    def inner(b):\n",
    "        return a+b\n",
    "    return inner\n",
    "\n",
    "result = outer(10)\n",
    "\n",
    "result(20) # 30\n",
    "You will see this pattern again when you learn about decorators!\n",
    "\n",
    "When you are just using (not modifying) a variable through closure, you don't need to use nonlocal or objects!"
   ]
  },
  {
   "cell_type": "code",
   "execution_count": 40,
   "metadata": {},
   "outputs": [
    {
     "ename": "SyntaxError",
     "evalue": "invalid syntax (<ipython-input-40-1db4752a7d77>, line 7)",
     "output_type": "error",
     "traceback": [
      "\u001b[0;36m  File \u001b[0;32m\"<ipython-input-40-1db4752a7d77>\"\u001b[0;36m, line \u001b[0;32m7\u001b[0m\n\u001b[0;31m    Return True if all elements of the iterable are truthy (or if the iterable is empty)\u001b[0m\n\u001b[0m              ^\u001b[0m\n\u001b[0;31mSyntaxError\u001b[0m\u001b[0;31m:\u001b[0m invalid syntax\n"
     ]
    }
   ],
   "source": [
    "all\n",
    "all([0,1,2,3]) # False\n",
    "\n",
    "all([char for char in 'eio' if char in 'aeiou'])\n",
    "\n",
    "all([num for num in [4,2,10,6,8] if num % 2 == 0]) # True\n",
    "Return True if all elements of the iterable are truthy (or if the iterable is empty)"
   ]
  },
  {
   "cell_type": "code",
   "execution_count": 41,
   "metadata": {},
   "outputs": [
    {
     "ename": "SyntaxError",
     "evalue": "invalid syntax (<ipython-input-41-5f9949b3969e>, line 7)",
     "output_type": "error",
     "traceback": [
      "\u001b[0;36m  File \u001b[0;32m\"<ipython-input-41-5f9949b3969e>\"\u001b[0;36m, line \u001b[0;32m7\u001b[0m\n\u001b[0;31m    Return True if any element of the iterable is truthy. If the iterable is empty, return False.\u001b[0m\n\u001b[0m              ^\u001b[0m\n\u001b[0;31mSyntaxError\u001b[0m\u001b[0;31m:\u001b[0m invalid syntax\n"
     ]
    }
   ],
   "source": [
    "any\n",
    "any([0, 1, 2, 3]) # True\n",
    "\n",
    "any([val for val in [1,2,3] if val > 2]) # True\n",
    "\n",
    "any([val for val in [1,2,3] if val > 5]) # False\n",
    "Return True if any element of the iterable is truthy. If the iterable is empty, return False. "
   ]
  },
  {
   "cell_type": "code",
   "execution_count": 42,
   "metadata": {},
   "outputs": [
    {
     "ename": "SyntaxError",
     "evalue": "invalid syntax (<ipython-input-42-bbcc9cf7ba46>, line 7)",
     "output_type": "error",
     "traceback": [
      "\u001b[0;36m  File \u001b[0;32m\"<ipython-input-42-bbcc9cf7ba46>\"\u001b[0;36m, line \u001b[0;32m7\u001b[0m\n\u001b[0;31m    Returns a new sorted list from the items in iterable\u001b[0m\n\u001b[0m            ^\u001b[0m\n\u001b[0;31mSyntaxError\u001b[0m\u001b[0;31m:\u001b[0m invalid syntax\n"
     ]
    }
   ],
   "source": [
    "sorted\n",
    "# sorted (works on anything that is iterable)\n",
    "\n",
    "more_numbers = [6,1,8,2]\n",
    "sorted(more_numbers) # [1, 2, 6, 8]\n",
    "print(more_numbers) # [6, 1, 8, 2]\n",
    "Returns a new sorted list from the items in iterable"
   ]
  },
  {
   "cell_type": "code",
   "execution_count": 43,
   "metadata": {},
   "outputs": [
    {
     "ename": "SyntaxError",
     "evalue": "invalid syntax (<ipython-input-43-87441e3e7763>, line 5)",
     "output_type": "error",
     "traceback": [
      "\u001b[0;36m  File \u001b[0;32m\"<ipython-input-43-87441e3e7763>\"\u001b[0;36m, line \u001b[0;32m5\u001b[0m\n\u001b[0;31m    Return a reverse iterator.\u001b[0m\n\u001b[0m           ^\u001b[0m\n\u001b[0;31mSyntaxError\u001b[0m\u001b[0;31m:\u001b[0m invalid syntax\n"
     ]
    }
   ],
   "source": [
    "reversed\n",
    "more_numbers = [6, 1, 8, 2]\n",
    "reversed(more_numbers) # <list_reverseiterator at 0x1049f7da0>\n",
    "print(list(reversed(more_numbers))) # [2, 8, 1, 6]\n",
    "Return a reverse iterator. \n",
    "\n",
    "Use slices or .reverse!"
   ]
  },
  {
   "cell_type": "code",
   "execution_count": 44,
   "metadata": {},
   "outputs": [
    {
     "ename": "SyntaxError",
     "evalue": "invalid syntax (<ipython-input-44-975cf52c23de>, line 8)",
     "output_type": "error",
     "traceback": [
      "\u001b[0;36m  File \u001b[0;32m\"<ipython-input-44-975cf52c23de>\"\u001b[0;36m, line \u001b[0;32m8\u001b[0m\n\u001b[0;31m    Return the largest item in an iterable or the largest of two or more arguments.\u001b[0m\n\u001b[0m             ^\u001b[0m\n\u001b[0;31mSyntaxError\u001b[0m\u001b[0;31m:\u001b[0m invalid syntax\n"
     ]
    }
   ],
   "source": [
    "max\n",
    "# max (strings, dicts with same keys)\n",
    "\n",
    "max([3,4,1,2]) # 4\n",
    "max((1,2,3,4)) # 4\n",
    "max('awesome') # 'w'\n",
    "max({1:'a', 3:'c', 2:'b'}) # 3\n",
    "Return the largest item in an iterable or the largest of two or more arguments."
   ]
  },
  {
   "cell_type": "code",
   "execution_count": 45,
   "metadata": {},
   "outputs": [
    {
     "ename": "SyntaxError",
     "evalue": "invalid syntax (<ipython-input-45-d687ecfba452>, line 8)",
     "output_type": "error",
     "traceback": [
      "\u001b[0;36m  File \u001b[0;32m\"<ipython-input-45-d687ecfba452>\"\u001b[0;36m, line \u001b[0;32m8\u001b[0m\n\u001b[0;31m    Return the smallest item in an iterable or the smallest of two or more arguments.\u001b[0m\n\u001b[0m             ^\u001b[0m\n\u001b[0;31mSyntaxError\u001b[0m\u001b[0;31m:\u001b[0m invalid syntax\n"
     ]
    }
   ],
   "source": [
    "min\n",
    "# min (strings, dicts with same keys)\n",
    "\n",
    "min([3,4,1,2]) # 1\n",
    "min((1,2,3,4)) # 1\n",
    "min('awesome') # 'a'\n",
    "min({1:'a', 3:'c', 2:'b'}) # 1\n",
    "Return the smallest item in an iterable or the smallest of two or more arguments."
   ]
  },
  {
   "cell_type": "code",
   "execution_count": 46,
   "metadata": {},
   "outputs": [
    {
     "ename": "SyntaxError",
     "evalue": "invalid syntax (<ipython-input-46-d24f510ea2ff>, line 7)",
     "output_type": "error",
     "traceback": [
      "\u001b[0;36m  File \u001b[0;32m\"<ipython-input-46-d24f510ea2ff>\"\u001b[0;36m, line \u001b[0;32m7\u001b[0m\n\u001b[0;31m    len({1,2,3,4}) # 4\u001b[0m\n\u001b[0m      ^\u001b[0m\n\u001b[0;31mSyntaxError\u001b[0m\u001b[0;31m:\u001b[0m invalid syntax\n"
     ]
    }
   ],
   "source": [
    "len \n",
    "len('awesome') # 7\n",
    "len((1,2,3,4)) # 4\n",
    "len([1,2,3,4]) # 4\n",
    "len(range(0,10) # 10\n",
    "\n",
    "len({1,2,3,4}) # 4\n",
    "len({'a':1, 'b':2, 'c':2} # 3\n",
    "\n",
    "Return the length (the number of items) of an object. The argument may be a sequence (such as a string, tuple, list, or range) or a collection (such as a dictionary, set)"
   ]
  },
  {
   "cell_type": "code",
   "execution_count": 47,
   "metadata": {},
   "outputs": [
    {
     "ename": "SyntaxError",
     "evalue": "invalid syntax (<ipython-input-47-51bf6e8107da>, line 4)",
     "output_type": "error",
     "traceback": [
      "\u001b[0;36m  File \u001b[0;32m\"<ipython-input-47-51bf6e8107da>\"\u001b[0;36m, line \u001b[0;32m4\u001b[0m\n\u001b[0;31m    Return the absolute value of a number. The argument may be an integer or a floating point number.\u001b[0m\n\u001b[0m             ^\u001b[0m\n\u001b[0;31mSyntaxError\u001b[0m\u001b[0;31m:\u001b[0m invalid syntax\n"
     ]
    }
   ],
   "source": [
    "abs\n",
    "abs(-5) # 5\n",
    "abs(5)  # 5\n",
    "Return the absolute value of a number. The argument may be an integer or a floating point number."
   ]
  },
  {
   "cell_type": "code",
   "execution_count": 48,
   "metadata": {},
   "outputs": [
    {
     "ename": "SyntaxError",
     "evalue": "invalid syntax (<ipython-input-48-b3b498cfe403>, line 5)",
     "output_type": "error",
     "traceback": [
      "\u001b[0;36m  File \u001b[0;32m\"<ipython-input-48-b3b498cfe403>\"\u001b[0;36m, line \u001b[0;32m5\u001b[0m\n\u001b[0;31m    Takes an iterable and an optional start.\u001b[0m\n\u001b[0m           ^\u001b[0m\n\u001b[0;31mSyntaxError\u001b[0m\u001b[0;31m:\u001b[0m invalid syntax\n"
     ]
    }
   ],
   "source": [
    "sum\n",
    "sum([1,2,3,4]) # 10\n",
    "\n",
    "sum([1,2,3,4], -10) # 0\n",
    "Takes an iterable and an optional start.\n",
    "Returns the sum of start and the items of an iterable from left to right and returns the total.\n",
    "start defaults to 0"
   ]
  },
  {
   "cell_type": "code",
   "execution_count": 49,
   "metadata": {},
   "outputs": [
    {
     "ename": "SyntaxError",
     "evalue": "invalid syntax (<ipython-input-49-a8467aeb2a4a>, line 4)",
     "output_type": "error",
     "traceback": [
      "\u001b[0;36m  File \u001b[0;32m\"<ipython-input-49-a8467aeb2a4a>\"\u001b[0;36m, line \u001b[0;32m4\u001b[0m\n\u001b[0;31m    Return number rounded to ndigits precision after the decimal point. If ndigits is omitted or is None, it returns the nearest integer to its input.\u001b[0m\n\u001b[0m                ^\u001b[0m\n\u001b[0;31mSyntaxError\u001b[0m\u001b[0;31m:\u001b[0m invalid syntax\n"
     ]
    }
   ],
   "source": [
    "round\n",
    "round(10.2) # 10\n",
    "round(1.212121, 2) # 1.21\n",
    "Return number rounded to ndigits precision after the decimal point. If ndigits is omitted or is None, it returns the nearest integer to its input."
   ]
  },
  {
   "cell_type": "code",
   "execution_count": 50,
   "metadata": {},
   "outputs": [
    {
     "ename": "SyntaxError",
     "evalue": "invalid syntax (<ipython-input-50-5fb64376dbf9>, line 7)",
     "output_type": "error",
     "traceback": [
      "\u001b[0;36m  File \u001b[0;32m\"<ipython-input-50-5fb64376dbf9>\"\u001b[0;36m, line \u001b[0;32m7\u001b[0m\n\u001b[0;31m    Make an iterator that aggregates elements from each of the iterables.\u001b[0m\n\u001b[0m          ^\u001b[0m\n\u001b[0;31mSyntaxError\u001b[0m\u001b[0;31m:\u001b[0m invalid syntax\n"
     ]
    }
   ],
   "source": [
    "zip\n",
    "first_zip = zip([1,2,3], [4,5,6])\n",
    "\n",
    "list(first_zip) # [(1, 4), (2, 5), (3, 6)]\n",
    "\n",
    "dict(first_zip) # {1: 4, 2: 5, 3: 6}\n",
    "Make an iterator that aggregates elements from each of the iterables.\n",
    "\n",
    "Returns an iterator of tuples, where the i-th tuple contains the i-th element from each of the argument sequences or iterables.\n",
    "\n",
    "The iterator stops when the shortest input iterable is exhausted."
   ]
  },
  {
   "cell_type": "code",
   "execution_count": 51,
   "metadata": {},
   "outputs": [
    {
     "ename": "SyntaxError",
     "evalue": "invalid syntax (<ipython-input-51-807996a3ebf6>, line 7)",
     "output_type": "error",
     "traceback": [
      "\u001b[0;36m  File \u001b[0;32m\"<ipython-input-51-807996a3ebf6>\"\u001b[0;36m, line \u001b[0;32m7\u001b[0m\n\u001b[0;31m    Very common when working with more complex data structures!\u001b[0m\n\u001b[0m              ^\u001b[0m\n\u001b[0;31mSyntaxError\u001b[0m\u001b[0;31m:\u001b[0m invalid syntax\n"
     ]
    }
   ],
   "source": [
    "zip\n",
    "five_by_two = [(0, 1), (1, 2), (2, 3), (3, 4), (4, 5)]\n",
    "\n",
    "list(zip(*five_by_two))\n",
    "\n",
    "[(0, 1, 2, 3, 4), (1, 2, 3, 4, 5)]\n",
    "Very common when working with more complex data structures!"
   ]
  },
  {
   "cell_type": "code",
   "execution_count": null,
   "metadata": {},
   "outputs": [],
   "source": []
  }
 ],
 "metadata": {
  "kernelspec": {
   "display_name": "Python 3",
   "language": "python",
   "name": "python3"
  },
  "language_info": {
   "codemirror_mode": {
    "name": "ipython",
    "version": 3
   },
   "file_extension": ".py",
   "mimetype": "text/x-python",
   "name": "python",
   "nbconvert_exporter": "python",
   "pygments_lexer": "ipython3",
   "version": "3.7.3"
  }
 },
 "nbformat": 4,
 "nbformat_minor": 2
}
