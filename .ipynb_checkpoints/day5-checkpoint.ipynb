{
 "cells": [
  {
   "cell_type": "markdown",
   "metadata": {},
   "source": [
    "# FUNCTIONS"
   ]
  },
  {
   "cell_type": "raw",
   "metadata": {},
   "source": [
    "OBJECTIVES\n",
    "Describe what a function is and how they are useful\n",
    "Explain exactly what the return keyword does and some of the side effects when using it\n",
    "Add parameters to functions to output different data\n",
    "Define and diagram how scope works in a function\n",
    "Add keyword arguments to functions"
   ]
  },
  {
   "cell_type": "markdown",
   "metadata": {},
   "source": [
    "<font color=\"blue\">What is a Function?</font>\n",
    "\n",
    "A process for executing a task<br>\n",
    "It can accept input and return an output<br>\n",
    "Useful for executing similar procedures over and over<br>\n",
    "\n",
    "\n",
    "<font color=\"blue\">Why Use Functions? </font>\n",
    "\n",
    "Stay DRY - Don't Repeat Yourself!<br>\n",
    "Clean up and prevent code duplication<br>\n",
    "\"Abstract away\" code for other users<br>\n",
    "Imagine if you had to rewrite the \"print()\" function for every program you wrote<br>\n",
    "\n",
    "# Function Structure\n",
    "\n",
    "def name_of_function():\n",
    "         <br>block of runnable code\n",
    "\n",
    "\n"
   ]
  },
  {
   "cell_type": "code",
   "execution_count": 1,
   "metadata": {},
   "outputs": [],
   "source": [
    "def func():\n",
    "    print(\"hello world\")"
   ]
  },
  {
   "cell_type": "code",
   "execution_count": 2,
   "metadata": {},
   "outputs": [
    {
     "name": "stdout",
     "output_type": "stream",
     "text": [
      "hello world\n"
     ]
    }
   ],
   "source": [
    "func()"
   ]
  },
  {
   "cell_type": "code",
   "execution_count": 7,
   "metadata": {},
   "outputs": [],
   "source": [
    "#We can try to print, but what if we want to store the result of a function in a variable?\n",
    "def func2():\n",
    "    print(\"hello world\")"
   ]
  },
  {
   "cell_type": "code",
   "execution_count": 8,
   "metadata": {},
   "outputs": [
    {
     "name": "stdout",
     "output_type": "stream",
     "text": [
      "hello world\n"
     ]
    }
   ],
   "source": [
    "func2()"
   ]
  },
  {
   "cell_type": "code",
   "execution_count": 9,
   "metadata": {},
   "outputs": [],
   "source": [
    "result=func2"
   ]
  },
  {
   "cell_type": "raw",
   "metadata": {},
   "source": []
  }
 ],
 "metadata": {
  "kernelspec": {
   "display_name": "Python 3",
   "language": "python",
   "name": "python3"
  },
  "language_info": {
   "codemirror_mode": {
    "name": "ipython",
    "version": 3
   },
   "file_extension": ".py",
   "mimetype": "text/x-python",
   "name": "python",
   "nbconvert_exporter": "python",
   "pygments_lexer": "ipython3",
   "version": "3.7.3"
  }
 },
 "nbformat": 4,
 "nbformat_minor": 2
}
