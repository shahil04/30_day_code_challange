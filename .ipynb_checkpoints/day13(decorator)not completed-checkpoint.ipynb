{
 "cells": [
  {
   "cell_type": "markdown",
   "metadata": {},
   "source": [
    "### What's a Decorator??\n",
    "\n",
    "Decorators are functions<br>\n",
    "Decorators wrap other functions and enhance their behavior<br>\n",
    "Decorators are examples of higher order functions<br>\n",
    "Decorators have their own syntax, using \"@\" (syntactic sugar)<br>\n"
   ]
  },
  {
   "cell_type": "code",
   "execution_count": 5,
   "metadata": {},
   "outputs": [],
   "source": [
    "# Decorators as Functions\n",
    "\n",
    "def be_polite(fn):\n",
    "    def wrapper():\n",
    "        print(\"What a pleasure to meet you!\")\n",
    "        fn()\n",
    "        print(\"Have a great day!\")\n",
    "    return wrapper\n",
    "\n",
    "def greet():\n",
    "    print(\"My name is Colt.\")\n",
    "\n",
    "greets = be_polite(greet)\n"
   ]
  },
  {
   "cell_type": "code",
   "execution_count": 7,
   "metadata": {},
   "outputs": [
    {
     "name": "stdout",
     "output_type": "stream",
     "text": [
      "What a pleasure to meet you!\n",
      "My name is Colt.\n",
      "Have a great day!\n"
     ]
    }
   ],
   "source": [
    "greets()"
   ]
  },
  {
   "cell_type": "code",
   "execution_count": 8,
   "metadata": {},
   "outputs": [],
   "source": [
    "# we are decorating our function \n",
    "# with politeness!\n",
    "\n",
    "# Decorator Syntax\n",
    "\n",
    "def be_polite(fn):\n",
    "    def wrapper(name):\n",
    "        print(\"I am happy to see you!\")\n",
    "        fn()\n",
    "        print(\"have a good day friend\")\n",
    "    return wrapper\n",
    "\n",
    "@be_polite\n",
    "def me():\n",
    "    print(\"I am your school time friend rahish\")\n",
    "\n",
    "def unknown():\n",
    "    print(\"I don't know you man.\")\n",
    "# we don't need to set \n",
    "# greet = be_polite(greet)\n"
   ]
  },
  {
   "cell_type": "code",
   "execution_count": 11,
   "metadata": {},
   "outputs": [
    {
     "name": "stdout",
     "output_type": "stream",
     "text": [
      "I am happy to see you!\n",
      "I am your school time friend rahish\n",
      "have a good day friend\n"
     ]
    }
   ],
   "source": [
    "me(\"rahis\")"
   ]
  },
  {
   "cell_type": "code",
   "execution_count": 12,
   "metadata": {},
   "outputs": [
    {
     "name": "stdout",
     "output_type": "stream",
     "text": [
      "I don't know you man.\n"
     ]
    }
   ],
   "source": [
    "unknown()"
   ]
  },
  {
   "cell_type": "code",
   "execution_count": 13,
   "metadata": {},
   "outputs": [],
   "source": [
    "#use it after decorator\n",
    "@be_polite\n",
    "def unknown():\n",
    "    print(\"I don't know you man.\")\n"
   ]
  },
  {
   "cell_type": "code",
   "execution_count": 15,
   "metadata": {},
   "outputs": [
    {
     "name": "stdout",
     "output_type": "stream",
     "text": [
      "I am happy to see you!\n",
      "I don't know you man.\n",
      "have a good day friend\n"
     ]
    }
   ],
   "source": [
    "unknown('sha')"
   ]
  },
  {
   "cell_type": "markdown",
   "metadata": {},
   "source": [
    "## decorator pattern"
   ]
  },
  {
   "cell_type": "markdown",
   "metadata": {},
   "source": [
    "def my_decoration(functions you passs):\n",
    "    \n",
    "    def wrapper(*args, **kwargs):\n",
    "        #here you add what you do with it \n",
    "    return wrapper\n"
   ]
  },
  {
   "cell_type": "code",
   "execution_count": 19,
   "metadata": {},
   "outputs": [],
   "source": [
    "# preserving metadata\n",
    "\n",
    "def log_function_data(fn):\n",
    "    def wrapper(*args, **kwargs):\n",
    "        print(f\"you are about to call {fn.__name__}\")\n",
    "        print(f\"Here's the documentation: {fn.__doc__}\")\n",
    "        return fn(*args, **kwargs)\n",
    "    return wrapper\n",
    "\n",
    "@log_function_data\n",
    "def add(x,y):\n",
    "    '''Adds two numbers together.'''\n",
    "    return x + y;"
   ]
  },
  {
   "cell_type": "code",
   "execution_count": 18,
   "metadata": {},
   "outputs": [
    {
     "name": "stdout",
     "output_type": "stream",
     "text": [
      "you are about to call add\n",
      "Here's the documentation: Adds two numbers together.\n"
     ]
    },
    {
     "data": {
      "text/plain": [
       "5"
      ]
     },
     "execution_count": 18,
     "metadata": {},
     "output_type": "execute_result"
    }
   ],
   "source": [
    "add(3,2)"
   ]
  },
  {
   "cell_type": "code",
   "execution_count": 20,
   "metadata": {},
   "outputs": [
    {
     "data": {
      "text/plain": [
       "'my an'"
      ]
     },
     "execution_count": 20,
     "metadata": {},
     "output_type": "execute_result"
    }
   ],
   "source": [
    "'''my an'''"
   ]
  },
  {
   "cell_type": "code",
   "execution_count": 25,
   "metadata": {},
   "outputs": [],
   "source": [
    "def sub(x,y):\n",
    "    '''subtract two numbers'''# this line not print when the function is call it works as a documentation of function\n",
    "    return x-y"
   ]
  },
  {
   "cell_type": "code",
   "execution_count": 26,
   "metadata": {},
   "outputs": [
    {
     "data": {
      "text/plain": [
       "-1"
      ]
     },
     "execution_count": 26,
     "metadata": {},
     "output_type": "execute_result"
    }
   ],
   "source": [
    "sub(4,5)"
   ]
  },
  {
   "cell_type": "code",
   "execution_count": 27,
   "metadata": {},
   "outputs": [],
   "source": [
    "#Decorator Pattern\n",
    "\n",
    "from functools import wraps\n",
    "# wraps preserves a function's metadata\n",
    "# when it is decorated\n",
    "\n",
    "def my_decorator(fn):\n",
    "    @wraps(fn)\n",
    "    def wrapper(*args, **kwargs):\n",
    "        # do some stuff with fn(*args, **kwargs)\n",
    "        pass\n",
    "    return wrapper"
   ]
  },
  {
   "cell_type": "code",
   "execution_count": 31,
   "metadata": {},
   "outputs": [],
   "source": [
    "# Using Decorators\n",
    "\n",
    "# Why Use Decorators?\n",
    "\n",
    "# Removing code duplication across functions\n",
    "# More easily perform function analytics/logging\n",
    "# Decorators Example\n",
    "\n",
    "from functools import wraps\n",
    "from time import time\n",
    "\n",
    "def speed_test(fn):\n",
    "    @wraps(fn)\n",
    "    def wrapper(*args, **kwargs):\n",
    "        t1 = time()\n",
    "        result = fn(*args, **kwargs)\n",
    "        t2 = time()\n",
    "        print(f\"Time Elapsed: {t2 - t1} seconds.\")\n",
    "        return result\n",
    "    return wrapper\n"
   ]
  },
  {
   "cell_type": "code",
   "execution_count": 32,
   "metadata": {},
   "outputs": [],
   "source": [
    "#Another Example\n",
    "\n",
    "from functools import wraps\n",
    "\n",
    "def ensure_no_kwargs(fn):\n",
    "    @wraps(fn)\n",
    "    def wrapper(*args, **kwargs):\n",
    "        if kwargs:\n",
    "            return \"No keyword arguments allowed!\"\n",
    "        return fn(*args)\n",
    "    return wrapper\n"
   ]
  },
  {
   "cell_type": "code",
   "execution_count": 37,
   "metadata": {},
   "outputs": [
    {
     "name": "stdout",
     "output_type": "stream",
     "text": [
      "('burrito', 'ice cream')\n"
     ]
    }
   ],
   "source": [
    "#Decorators with Arguments\n",
    "\n",
    "@ensure_first_arg_is(\"burrito\")\n",
    "def fav_foods(*foods):\n",
    "    print(foods)\n",
    "\n",
    "fav_foods(\"burrito\", \"ice cream\") \n",
    "  # ('burrito', 'ice cream')\n",
    "fav_foods(\"ice cream\", \"burrito\")\n",
    "  # 'Invalid! First argument must be burrito'\n",
    "\n",
    "@ensure_first_arg_is(10)\n",
    "def add_to_ten(num1, num2):\n",
    "    return num1 + num2\n",
    "\n",
    "add_to_ten(10, 12) # 12\n",
    "add_to_ten(1, 2) \n",
    "  # 'Invalid! First argument must be 10'\n",
    "\n",
    "    #How can we write this decorator?\n",
    "\n",
    "#Decorators with Arguments\n",
    "\n",
    "def ensure_first_arg_is(val):\n",
    "    def inner(fn):\n",
    "        @wraps(fn)\n",
    "        def wrapper(*args, **kwargs):\n",
    "            if args and args[0] != val:\n",
    "                return f\"Invalid! First argument must be {val}\"\n",
    "            return fn(*args, **kwargs)\n",
    "        return wrapper\n",
    "    return inner\n"
   ]
  },
  {
   "cell_type": "code",
   "execution_count": null,
   "metadata": {},
   "outputs": [],
   "source": []
  },
  {
   "cell_type": "raw",
   "metadata": {},
   "source": [
    "Recap\n",
    "\n",
    "Decorators are functions that enhance other functions\n",
    "Decorators use \"@\" as syntactic sugar\n",
    "In general, the functions that decorators return accept an unlimited number of positional and keyword arguments\n",
    "To preserve information about the decorated function, use wraps\n",
    "To write a decorator that accepts an argument, use another level of function nesting\n",
    "Decorators are useful for minimizing code duplication, analyzing functions, returning early from a function, and more!\n",
    "YOUR TURN\n"
   ]
  },
  {
   "cell_type": "code",
   "execution_count": null,
   "metadata": {},
   "outputs": [],
   "source": []
  }
 ],
 "metadata": {
  "kernelspec": {
   "display_name": "Python 3",
   "language": "python",
   "name": "python3"
  },
  "language_info": {
   "codemirror_mode": {
    "name": "ipython",
    "version": 3
   },
   "file_extension": ".py",
   "mimetype": "text/x-python",
   "name": "python",
   "nbconvert_exporter": "python",
   "pygments_lexer": "ipython3",
   "version": "3.7.3"
  }
 },
 "nbformat": 4,
 "nbformat_minor": 2
}
