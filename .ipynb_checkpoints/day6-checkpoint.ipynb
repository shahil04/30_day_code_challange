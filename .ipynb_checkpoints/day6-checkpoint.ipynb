{
 "cells": [
  {
   "cell_type": "markdown",
   "metadata": {},
   "source": [
    "# function part-ll"
   ]
  },
  {
   "cell_type": "markdown",
   "metadata": {},
   "source": [
    "OBJECTIVES\n",
    "\n",
    "Use the * and ** operator as parameters to a function and outside of a function\n",
    "\n",
    "Leverage dictionary and tuple unpacking to create more flexible functions\n",
    "\n",
    "Understand what a lambda is and how they are used\n",
    "\n",
    "Explain what closure is and how it works in Python\n",
    "\n",
    "Use built in functions to sort, reverse and calculate aggregate information"
   ]
  },
  {
   "cell_type": "raw",
   "metadata": {},
   "source": [
    "*args\n",
    "A special operator we can pass to functions\n",
    "\n",
    "Gathers remaining arguments as a tuple\n",
    "\n",
    "This is just a parameter - you can call it whatever you want!"
   ]
  },
  {
   "cell_type": "code",
   "execution_count": 24,
   "metadata": {},
   "outputs": [],
   "source": [
    "e=0\n",
    "def sum(*args):\n",
    "    a=0\n",
    "    for i in args:\n",
    "        a=a+i\n",
    "        b=a\n",
    "    return b"
   ]
  },
  {
   "cell_type": "code",
   "execution_count": 26,
   "metadata": {},
   "outputs": [
    {
     "data": {
      "text/plain": [
       "6"
      ]
     },
     "execution_count": 26,
     "metadata": {},
     "output_type": "execute_result"
    }
   ],
   "source": [
    "sum(1,2,3)"
   ]
  },
  {
   "cell_type": "code",
   "execution_count": 31,
   "metadata": {},
   "outputs": [],
   "source": [
    "#another example\n",
    "def name(*args):\n",
    "    if \"sha\"in args:\n",
    "        return(\"you are my user\")\n",
    "    \n",
    "    return \"you are not my user\""
   ]
  },
  {
   "cell_type": "code",
   "execution_count": 32,
   "metadata": {},
   "outputs": [
    {
     "data": {
      "text/plain": [
       "'you are my user'"
      ]
     },
     "execution_count": 32,
     "metadata": {},
     "output_type": "execute_result"
    }
   ],
   "source": [
    "name(\"sha\")"
   ]
  },
  {
   "cell_type": "code",
   "execution_count": 33,
   "metadata": {},
   "outputs": [
    {
     "data": {
      "text/plain": [
       "'you are not my user'"
      ]
     },
     "execution_count": 33,
     "metadata": {},
     "output_type": "execute_result"
    }
   ],
   "source": [
    "name(\"shah\")"
   ]
  },
  {
   "cell_type": "markdown",
   "metadata": {},
   "source": [
    "# **kwargs\n",
    "A special operator we can pass to functions\n",
    "\n",
    "Gathers remaining keyword arguments as a dictionary\n",
    "\n",
    "This is just a parameter - you can call it whatever you want!"
   ]
  },
  {
   "cell_type": "code",
   "execution_count": 35,
   "metadata": {},
   "outputs": [],
   "source": [
    "# you pass ** then you pass the dicitionary as a parameter\n",
    "def user_pass(**args):\n",
    "    if {\"sha\":\"passwd\"} in args:\n",
    "        return \"you are my user.\\n wellcome back!\"\n",
    "    return \"sorry wrong user and passwd?\""
   ]
  },
  {
   "cell_type": "code",
   "execution_count": null,
   "metadata": {},
   "outputs": [],
   "source": []
  }
 ],
 "metadata": {
  "kernelspec": {
   "display_name": "Python 3",
   "language": "python",
   "name": "python3"
  },
  "language_info": {
   "codemirror_mode": {
    "name": "ipython",
    "version": 3
   },
   "file_extension": ".py",
   "mimetype": "text/x-python",
   "name": "python",
   "nbconvert_exporter": "python",
   "pygments_lexer": "ipython3",
   "version": "3.7.3"
  }
 },
 "nbformat": 4,
 "nbformat_minor": 2
}
