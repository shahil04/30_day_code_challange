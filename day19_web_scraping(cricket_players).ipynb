{
 "cells": [
  {
   "cell_type": "code",
   "execution_count": 1,
   "metadata": {},
   "outputs": [],
   "source": [
    "from bs4 import BeautifulSoup as bs\n",
    "import requests"
   ]
  },
  {
   "cell_type": "code",
   "execution_count": null,
   "metadata": {},
   "outputs": [],
   "source": [
    "# some projects are \n",
    "# Price Monitoring\n",
    "# email mining\n",
    "# job aggregater\n",
    "# scraping reviews\n",
    "# imdb scraper\n",
    "# rediit scraper"
   ]
  },
  {
   "cell_type": "markdown",
   "metadata": {},
   "source": [
    "# project 1\n",
    "\n",
    "## Cricket player details from cricbuzz"
   ]
  },
  {
   "cell_type": "code",
   "execution_count": null,
   "metadata": {},
   "outputs": [],
   "source": [
    "all_team_url=\"https://www.cricbuzz.com/cricket-team\""
   ]
  },
  {
   "cell_type": "code",
   "execution_count": null,
   "metadata": {},
   "outputs": [],
   "source": [
    "# steps \n",
    "1.scrap all international-team name and link\n",
    "2. go one by on each team\n",
    "3. find player section link\n",
    "4.find all palayer section list\n",
    "5.go to single player link\n",
    "5. scrap img personal information details\n",
    "6. cricket carrier summary\n",
    "\n"
   ]
  },
  {
   "cell_type": "code",
   "execution_count": null,
   "metadata": {},
   "outputs": [],
   "source": []
  },
  {
   "cell_type": "code",
   "execution_count": 2,
   "metadata": {},
   "outputs": [],
   "source": [
    "# https://in.global.nba.com/playerindex/?_ga=2.60633572.875340754.1587536960-64630096.1587536958\n",
    "# this is all players list link"
   ]
  },
  {
   "cell_type": "code",
   "execution_count": 3,
   "metadata": {},
   "outputs": [],
   "source": [
    "url=\"https://in.global.nba.com/playerindex/?_ga=2.60633572.875340754.1587536960-64630096.1587536958\"\n",
    "page=requests.get(url)\n",
    "html_page=bs(page.content,\"lxml\")"
   ]
  },
  {
   "cell_type": "code",
   "execution_count": null,
   "metadata": {},
   "outputs": [],
   "source": [
    "# now page is load in html page\n",
    "# so we find all a to z link\n"
   ]
  }
 ],
 "metadata": {
  "kernelspec": {
   "display_name": "Python 3",
   "language": "python",
   "name": "python3"
  },
  "language_info": {
   "codemirror_mode": {
    "name": "ipython",
    "version": 3
   },
   "file_extension": ".py",
   "mimetype": "text/x-python",
   "name": "python",
   "nbconvert_exporter": "python",
   "pygments_lexer": "ipython3",
   "version": "3.7.3"
  }
 },
 "nbformat": 4,
 "nbformat_minor": 2
}
