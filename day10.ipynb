{
 "cells": [
  {
   "cell_type": "markdown",
   "metadata": {},
   "source": [
    "# OOP concept\n",
    "\n",
    "Define what Object Oriented Programming is<br>\n",
    "Understand encapsulation and abstraction<br>\n",
    "Create classes and instances and attach methods and properties to each<br>\n",
    "\n"
   ]
  },
  {
   "cell_type": "markdown",
   "metadata": {},
   "source": [
    "# What is OOP?\n",
    "\n",
    "Object oriented programming is a method of programming that attempts to model some process or thing in the world as a class or object.\n",
    "\n",
    "<font color=\"blue\">class</font> - a blueprint for objects. Classes can contain methods (functions) and attributes (similar to keys in a dict).\n",
    "\n",
    "<font color=\"blue\">instance -</font> objects that are constructed from a class blueprint that contain their class's methods and properties."
   ]
  },
  {
   "cell_type": "markdown",
   "metadata": {},
   "source": [
    "Why OOP?\n",
    "\n",
    "With object oriented programming, the goal is to encapsulate your code into logical, \n",
    "hierarchical groupings using classes so that you can reason about your code at a higher level.\n",
    "\n"
   ]
  },
  {
   "cell_type": "markdown",
   "metadata": {},
   "source": [
    "# Example\n",
    "\n",
    "Say we want to model a game of poker in our program.\n",
    "\n",
    "We could have the following entities:\n",
    "Game<br>\n",
    "Player<br>\n",
    "Card<br>\n",
    "Deck<br>\n",
    "Hand<br>\n",
    "Chip<br>\n",
    "Bet<br>\n",
    "\n",
    "Each entity could be its own class in our program!"
   ]
  },
  {
   "cell_type": "markdown",
   "metadata": {},
   "source": [
    "# Card Deck Possible Implementation (Pseudocode)\n",
    "\n",
    "Deck {class}\n",
    "\n",
    "_cards         {private list attribute}<br>\n",
    "_max_cards     {private int} <br>\n",
    "shuffle        {public method}<br>\n",
    "deal_card      {public method}<br>\n",
    "deal_hand      {public method}<r>\n",
    "count          {public method}<br>"
   ]
  },
  {
   "cell_type": "markdown",
   "metadata": {},
   "source": [
    "# Encapsulation\n",
    "\n",
    "Encapsulation - the grouping of public and private attributes and methods into a programmatic class, making abstraction possible\n",
    "\n",
    "example\n",
    "\n",
    "Designing the Deck class, I make cards a private attribute (a list)\n",
    "I decide that the length of the cards should be accessed via a public method called count() -- i.e. Deck.count()"
   ]
  },
  {
   "cell_type": "markdown",
   "metadata": {},
   "source": [
    "# Abstraction\n",
    "\n",
    "Abstraction - exposing only \"relevant\" data in a class interface, hiding private attributes and methods (aka the \"inner workings\") from users\n",
    "\n",
    "example\n",
    "\n",
    "As a user of the Deck class, I never call len(Deck.cards), only Deck.count() because Deck.cards is \"abstracted away\" for me."
   ]
  },
  {
   "cell_type": "markdown",
   "metadata": {},
   "source": [
    "# Creating a class\n",
    "\n",
    "Classes in Python can have a special __init__ method, which gets called every time you create an instance of the class (instantiate)."
   ]
  },
  {
   "cell_type": "code",
   "execution_count": 41,
   "metadata": {},
   "outputs": [],
   "source": [
    "class Demo:\n",
    "    def __init__(self,name,age,height):\n",
    "        self.nam=name\n",
    "        self.ag=age\n",
    "        self.hgt=height\n",
    "        \n",
    "    def show(self):\n",
    "        print(\"name:-\"+self.nam)\n",
    "        print(\"age:-\"+str(self.ag))\n",
    "        print(\"height:-\"+str(self.hgt))"
   ]
  },
  {
   "cell_type": "code",
   "execution_count": 42,
   "metadata": {},
   "outputs": [],
   "source": [
    "s=Demo(\"sha\",3,23)"
   ]
  },
  {
   "cell_type": "code",
   "execution_count": 43,
   "metadata": {},
   "outputs": [
    {
     "data": {
      "text/plain": [
       "'sha'"
      ]
     },
     "execution_count": 43,
     "metadata": {},
     "output_type": "execute_result"
    }
   ],
   "source": [
    "s.nam"
   ]
  },
  {
   "cell_type": "code",
   "execution_count": 44,
   "metadata": {},
   "outputs": [
    {
     "name": "stdout",
     "output_type": "stream",
     "text": [
      "name:-sha\n",
      "age:-3\n",
      "height:-23\n"
     ]
    }
   ],
   "source": [
    "s.show()"
   ]
  },
  {
   "cell_type": "code",
   "execution_count": 47,
   "metadata": {},
   "outputs": [
    {
     "ename": "NameError",
     "evalue": "name 'self' is not defined",
     "output_type": "error",
     "traceback": [
      "\u001b[0;31m---------------------------------------------------------------------------\u001b[0m",
      "\u001b[0;31mNameError\u001b[0m                                 Traceback (most recent call last)",
      "\u001b[0;32m<ipython-input-47-b5099acb34d4>\u001b[0m in \u001b[0;36m<module>\u001b[0;34m\u001b[0m\n\u001b[0;32m----> 1\u001b[0;31m \u001b[0mself\u001b[0m\u001b[0;34m.\u001b[0m\u001b[0mnam\u001b[0m\u001b[0;34m\u001b[0m\u001b[0;34m\u001b[0m\u001b[0m\n\u001b[0m",
      "\u001b[0;31mNameError\u001b[0m: name 'self' is not defined"
     ]
    }
   ],
   "source": [
    "self.nam"
   ]
  },
  {
   "cell_type": "code",
   "execution_count": null,
   "metadata": {},
   "outputs": [],
   "source": []
  },
  {
   "cell_type": "markdown",
   "metadata": {},
   "source": [
    "namc"
   ]
  },
  {
   "cell_type": "code",
   "execution_count": null,
   "metadata": {},
   "outputs": [],
   "source": []
  },
  {
   "cell_type": "raw",
   "metadata": {},
   "source": [
    "Instantiating a Class\n",
    "Creating an object that is an instance of a class is called instantiating a class."
   ]
  },
  {
   "cell_type": "code",
   "execution_count": 48,
   "metadata": {},
   "outputs": [],
   "source": [
    "d=Demo('raj',9,100)# initialize the class\n",
    "\n",
    "# d is object of demo"
   ]
  },
  {
   "cell_type": "code",
   "execution_count": 49,
   "metadata": {},
   "outputs": [
    {
     "data": {
      "text/plain": [
       "'raj'"
      ]
     },
     "execution_count": 49,
     "metadata": {},
     "output_type": "execute_result"
    }
   ],
   "source": [
    "d.nam"
   ]
  },
  {
   "cell_type": "code",
   "execution_count": 50,
   "metadata": {},
   "outputs": [
    {
     "data": {
      "text/plain": [
       "9"
      ]
     },
     "execution_count": 50,
     "metadata": {},
     "output_type": "execute_result"
    }
   ],
   "source": [
    "d.ag"
   ]
  },
  {
   "cell_type": "code",
   "execution_count": 51,
   "metadata": {},
   "outputs": [
    {
     "name": "stdout",
     "output_type": "stream",
     "text": [
      "name:-raj\n",
      "age:-9\n",
      "height:-100\n"
     ]
    }
   ],
   "source": [
    "d.show()"
   ]
  },
  {
   "cell_type": "markdown",
   "metadata": {},
   "source": [
    "# self\n",
    "\n",
    "self must always be the first parameter to __init__ and any methods and properties on class instances.\n",
    "\n",
    "The self keyword refers to the current class instance.\n",
    "\n",
    "You never have to pass it directly when calling instance methods, including __init__."
   ]
  },
  {
   "cell_type": "code",
   "execution_count": 52,
   "metadata": {},
   "outputs": [],
   "source": [
    "class Vehicle:\n",
    "\n",
    "    def __init__(self, make, model, year):\n",
    "        self.make = make\n",
    "        self.model = model\n",
    "        self.year = year"
   ]
  },
  {
   "cell_type": "code",
   "execution_count": 79,
   "metadata": {},
   "outputs": [],
   "source": [
    "class Student:\n",
    "    def __init__(self,name,roll,standard,subject):\n",
    "        self.name=name\n",
    "        self.roll_no=roll\n",
    "        self.classs=standard\n",
    "        self.stream=subject\n",
    "        print(f\"student {name} details added.\")\n",
    "        \n",
    "    def show(self):\n",
    "        print(\"student comman details are:-\")\n",
    "        print(\"name:-\" +self.name)\n",
    "        print(\"roll_no\"+str(self.roll_no))\n",
    "        print(\"class:-\"+str(self.classs))\n",
    "        print(\"suject:-\"+self.stream)\n",
    "        print(f\"if you want to add address of {self.name} \\n please call address method\")\n",
    "        \n",
    "    def address(self,home_no,road_no,town,dist,state,pin):\n",
    "        self.home_no=home_no\n",
    "        self.road_no=road_no\n",
    "        self.dist   =dist\n",
    "        self.state  =state\n",
    "        self.pin    =pin\n",
    "        print(\"Thanku for fill student address detail.\")\n",
    "        \n",
    "        \n",
    "    def full_detail(self):\n",
    "        show()\n",
    "        print(\"address:-\")\n",
    "        print(self.home_no)\n",
    "        print(self.road_no)\n",
    "        print(self.dist   )\n",
    "        print(self.state  )\n",
    "        print(self.pin    )\n"
   ]
  },
  {
   "cell_type": "code",
   "execution_count": 80,
   "metadata": {},
   "outputs": [
    {
     "name": "stdout",
     "output_type": "stream",
     "text": [
      "student shahil details added.\n"
     ]
    }
   ],
   "source": [
    "std1=Student('shahil',1,\"XII\",\"PCM\")"
   ]
  },
  {
   "cell_type": "code",
   "execution_count": null,
   "metadata": {},
   "outputs": [],
   "source": []
  },
  {
   "cell_type": "raw",
   "metadata": {},
   "source": [
    "std1.show()"
   ]
  },
  {
   "cell_type": "code",
   "execution_count": 81,
   "metadata": {},
   "outputs": [
    {
     "name": "stdout",
     "output_type": "stream",
     "text": [
      "Thanku for fill student address detail.\n"
     ]
    }
   ],
   "source": [
    "std1.address(60,5,\"ranchi\",\"ranchi\",\"jharkhand\",834001)"
   ]
  },
  {
   "cell_type": "code",
   "execution_count": 82,
   "metadata": {},
   "outputs": [
    {
     "ename": "NameError",
     "evalue": "name 'show' is not defined",
     "output_type": "error",
     "traceback": [
      "\u001b[0;31m---------------------------------------------------------------------------\u001b[0m",
      "\u001b[0;31mNameError\u001b[0m                                 Traceback (most recent call last)",
      "\u001b[0;32m<ipython-input-82-556dc7790ed4>\u001b[0m in \u001b[0;36m<module>\u001b[0;34m\u001b[0m\n\u001b[0;32m----> 1\u001b[0;31m \u001b[0mstd1\u001b[0m\u001b[0;34m.\u001b[0m\u001b[0mfull_detail\u001b[0m\u001b[0;34m(\u001b[0m\u001b[0;34m)\u001b[0m\u001b[0;34m\u001b[0m\u001b[0;34m\u001b[0m\u001b[0m\n\u001b[0m",
      "\u001b[0;32m<ipython-input-79-ac9a14db4315>\u001b[0m in \u001b[0;36mfull_detail\u001b[0;34m(self)\u001b[0m\n\u001b[1;32m     25\u001b[0m \u001b[0;34m\u001b[0m\u001b[0m\n\u001b[1;32m     26\u001b[0m     \u001b[0;32mdef\u001b[0m \u001b[0mfull_detail\u001b[0m\u001b[0;34m(\u001b[0m\u001b[0mself\u001b[0m\u001b[0;34m)\u001b[0m\u001b[0;34m:\u001b[0m\u001b[0;34m\u001b[0m\u001b[0;34m\u001b[0m\u001b[0m\n\u001b[0;32m---> 27\u001b[0;31m         \u001b[0mshow\u001b[0m\u001b[0;34m(\u001b[0m\u001b[0;34m)\u001b[0m\u001b[0;34m\u001b[0m\u001b[0;34m\u001b[0m\u001b[0m\n\u001b[0m\u001b[1;32m     28\u001b[0m         \u001b[0mprint\u001b[0m\u001b[0;34m(\u001b[0m\u001b[0;34m\"address:-\"\u001b[0m\u001b[0;34m)\u001b[0m\u001b[0;34m\u001b[0m\u001b[0;34m\u001b[0m\u001b[0m\n\u001b[1;32m     29\u001b[0m         \u001b[0mprint\u001b[0m\u001b[0;34m(\u001b[0m\u001b[0mself\u001b[0m\u001b[0;34m.\u001b[0m\u001b[0mhome_no\u001b[0m\u001b[0;34m)\u001b[0m\u001b[0;34m\u001b[0m\u001b[0;34m\u001b[0m\u001b[0m\n",
      "\u001b[0;31mNameError\u001b[0m: name 'show' is not defined"
     ]
    }
   ],
   "source": [
    "std1.full_detail()"
   ]
  },
  {
   "cell_type": "markdown",
   "metadata": {},
   "source": [
    "Class Attributes\n",
    "\n",
    "We can also define attributes directly on a class that are shared by all instances of a class and the class itself."
   ]
  },
  {
   "cell_type": "code",
   "execution_count": 83,
   "metadata": {},
   "outputs": [],
   "source": [
    "class Pet():\n",
    "\n",
    "    allowed = (\"cat\", \"dog\", \"bird\", \"lizard\", \"rodent\")\n",
    "\n",
    "    def __init__(self, kind, name):\n",
    "\n",
    "        if kind not in self.allowed:\n",
    "            raise ValueError(f\"You can't have a {kind} as a pet here!\")\n",
    "\n",
    "        self.kind = kind\n",
    "        self.name = name\n",
    "\n",
    "fluffy = Pet(\"cat\", \"Fluffy\")"
   ]
  },
  {
   "cell_type": "code",
   "execution_count": 84,
   "metadata": {},
   "outputs": [
    {
     "ename": "ValueError",
     "evalue": "You can't have a bear as a pet here!",
     "output_type": "error",
     "traceback": [
      "\u001b[0;31m---------------------------------------------------------------------------\u001b[0m",
      "\u001b[0;31mValueError\u001b[0m                                Traceback (most recent call last)",
      "\u001b[0;32m<ipython-input-84-0a297669a1d9>\u001b[0m in \u001b[0;36m<module>\u001b[0;34m\u001b[0m\n\u001b[0;32m----> 1\u001b[0;31m \u001b[0mBro\u001b[0m \u001b[0;34m=\u001b[0m \u001b[0mPet\u001b[0m\u001b[0;34m(\u001b[0m\u001b[0;34m\"bear\"\u001b[0m\u001b[0;34m,\u001b[0m \u001b[0;34m\"Bro\"\u001b[0m\u001b[0;34m)\u001b[0m\u001b[0;34m\u001b[0m\u001b[0;34m\u001b[0m\u001b[0m\n\u001b[0m",
      "\u001b[0;32m<ipython-input-83-a0b7d5aee618>\u001b[0m in \u001b[0;36m__init__\u001b[0;34m(self, kind, name)\u001b[0m\n\u001b[1;32m      6\u001b[0m \u001b[0;34m\u001b[0m\u001b[0m\n\u001b[1;32m      7\u001b[0m         \u001b[0;32mif\u001b[0m \u001b[0mkind\u001b[0m \u001b[0;32mnot\u001b[0m \u001b[0;32min\u001b[0m \u001b[0mself\u001b[0m\u001b[0;34m.\u001b[0m\u001b[0mallowed\u001b[0m\u001b[0;34m:\u001b[0m\u001b[0;34m\u001b[0m\u001b[0;34m\u001b[0m\u001b[0m\n\u001b[0;32m----> 8\u001b[0;31m             \u001b[0;32mraise\u001b[0m \u001b[0mValueError\u001b[0m\u001b[0;34m(\u001b[0m\u001b[0;34mf\"You can't have a {kind} as a pet here!\"\u001b[0m\u001b[0;34m)\u001b[0m\u001b[0;34m\u001b[0m\u001b[0;34m\u001b[0m\u001b[0m\n\u001b[0m\u001b[1;32m      9\u001b[0m \u001b[0;34m\u001b[0m\u001b[0m\n\u001b[1;32m     10\u001b[0m         \u001b[0mself\u001b[0m\u001b[0;34m.\u001b[0m\u001b[0mkind\u001b[0m \u001b[0;34m=\u001b[0m \u001b[0mkind\u001b[0m\u001b[0;34m\u001b[0m\u001b[0;34m\u001b[0m\u001b[0m\n",
      "\u001b[0;31mValueError\u001b[0m: You can't have a bear as a pet here!"
     ]
    }
   ],
   "source": [
    "Bro = Pet(\"bear\", \"Bro\")"
   ]
  },
  {
   "cell_type": "code",
   "execution_count": 85,
   "metadata": {},
   "outputs": [
    {
     "data": {
      "text/plain": [
       "('cat', 'dog', 'bird', 'lizard', 'rodent')"
      ]
     },
     "execution_count": 85,
     "metadata": {},
     "output_type": "execute_result"
    }
   ],
   "source": [
    "fluffy.allowed"
   ]
  },
  {
   "cell_type": "markdown",
   "metadata": {},
   "source": [
    "Class Methods\n",
    "\n",
    "Class methods are methods (with the @classmethod decorator) that are not concerned with instances, but the class itself.\n",
    "\n",
    "The first argument is cls (for class) instead of self. Like self, it does not need to be passed in explicitly.\n",
    "\n",
    "Class methods are available on the class itself and any instances of the class, and are mostly used for building new instances of classes"
   ]
  },
  {
   "cell_type": "code",
   "execution_count": 86,
   "metadata": {},
   "outputs": [
    {
     "ename": "NameError",
     "evalue": "name 'my_csv' is not defined",
     "output_type": "error",
     "traceback": [
      "\u001b[0;31m---------------------------------------------------------------------------\u001b[0m",
      "\u001b[0;31mNameError\u001b[0m                                 Traceback (most recent call last)",
      "\u001b[0;32m<ipython-input-86-b80f022a07cf>\u001b[0m in \u001b[0;36m<module>\u001b[0;34m\u001b[0m\n\u001b[1;32m      6\u001b[0m         \u001b[0;32mreturn\u001b[0m \u001b[0mcls\u001b[0m\u001b[0;34m(\u001b[0m\u001b[0;34m*\u001b[0m\u001b[0mparams\u001b[0m\u001b[0;34m)\u001b[0m \u001b[0;31m# this is the same as calling Person(*params)\u001b[0m\u001b[0;34m\u001b[0m\u001b[0;34m\u001b[0m\u001b[0m\n\u001b[1;32m      7\u001b[0m \u001b[0;34m\u001b[0m\u001b[0m\n\u001b[0;32m----> 8\u001b[0;31m \u001b[0mPerson\u001b[0m\u001b[0;34m.\u001b[0m\u001b[0mfrom_csv\u001b[0m\u001b[0;34m(\u001b[0m\u001b[0mmy_csv\u001b[0m\u001b[0;34m)\u001b[0m\u001b[0;34m\u001b[0m\u001b[0;34m\u001b[0m\u001b[0m\n\u001b[0m",
      "\u001b[0;31mNameError\u001b[0m: name 'my_csv' is not defined"
     ]
    }
   ],
   "source": [
    "class Person():\n",
    "    # ...\n",
    "\n",
    "    @classmethod\n",
    "    def from_csv(cls, filename):\n",
    "        return cls(*params) # this is the same as calling Person(*params)\n",
    "\n",
    "Person.from_csv(my_csv)"
   ]
  },
  {
   "cell_type": "code",
   "execution_count": null,
   "metadata": {},
   "outputs": [],
   "source": [
    "thank you end"
   ]
  }
 ],
 "metadata": {
  "kernelspec": {
   "display_name": "Python 3",
   "language": "python",
   "name": "python3"
  },
  "language_info": {
   "codemirror_mode": {
    "name": "ipython",
    "version": 3
   },
   "file_extension": ".py",
   "mimetype": "text/x-python",
   "name": "python",
   "nbconvert_exporter": "python",
   "pygments_lexer": "ipython3",
   "version": "3.7.3"
  }
 },
 "nbformat": 4,
 "nbformat_minor": 2
}
